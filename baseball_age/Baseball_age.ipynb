{
 "cells": [
  {
   "cell_type": "code",
   "execution_count": 2,
   "id": "9042a746-719e-4de8-ba31-8b3c2829874d",
   "metadata": {},
   "outputs": [],
   "source": [
    "import requests\n",
    "from bs4 import BeautifulSoup as soup\n",
    "import pandas as pd"
   ]
  },
  {
   "cell_type": "code",
   "execution_count": 10,
   "id": "c0475760-5634-43a9-8730-5bf1f6d08488",
   "metadata": {},
   "outputs": [],
   "source": [
    "def top_POS_per_year(year, position=\"Hitting\"):\n",
    "    \"\"\"Helper function to scrape position stats by year\"\"\"\n",
    "    \n",
    "    #position dictionary with indexing\n",
    "    pos = {\"Hitting\":[\"-standard-batting.shtml\"]}\n",
    "    \n",
    "    #get html\n",
    "    base_url = \"https://www.baseball-reference.com/leagues/majors/\"\n",
    "    \n",
    "    html = requests.get(base_url + year + pos[position][0]).text\n",
    "    page = soup(html)\n",
    "    rows = page.findAll(\"tr\")\n",
    "    \n",
    "    #get column headers\n",
    "    \n",
    "    \n",
    "    #get table of stats\n",
    "    \n",
    "    \n",
    "    return rows"
   ]
  },
  {
   "cell_type": "code",
   "execution_count": 11,
   "id": "b01aa94d-7d9b-46b1-86de-77485c996afb",
   "metadata": {},
   "outputs": [
    {
     "name": "stdout",
     "output_type": "stream",
     "text": [
      "----- Results: -----\n",
      "\n",
      " Tm #Bat BatAge R/G G PA AB R H 2B 3B HR RBI SB CS BB SO BA OBP SLG OPS OPS+ TB GDP HBP SH SF IBB LOB \n",
      "\n",
      "---- End Results ---\n"
     ]
    }
   ],
   "source": [
    "first_row = top_POS_per_year('2020')\n",
    "\n",
    "print(\"----- Results: -----\\n\")\n",
    "print(first_row[0].text.replace('\\n', ' '))\n",
    "print(\"\\n---- End Results ---\")"
   ]
  },
  {
   "cell_type": "code",
   "execution_count": 37,
   "id": "28f9c36c-e331-4ad8-9d52-c92436e3c9e8",
   "metadata": {},
   "outputs": [],
   "source": [
    "def top_POS_per_year(year, position=\"Hitting\"):\n",
    "    \"\"\"Helper function to scrape position stats by year\"\"\"\n",
    "    \n",
    "    #position dictionary with indexing\n",
    "    pos = {\"Hitting\":[\"-standard-batting.shtml\", 0, 1]}\n",
    "    \n",
    "    #get html\n",
    "    base_url = \"https://www.baseball-reference.com/leagues/majors/\"\n",
    "    \n",
    "    html = requests.get(base_url + year + pos[position][0]).text\n",
    "    page = soup(html)\n",
    "    table = page.find(\"table\", id=\"players_standard_batting\")\n",
    "    rows = table.findAll(\"tr\")\n",
    "    \n",
    "    #get column headers\n",
    "    cols = [i.getText() for i in rows[pos[position][1]].findAll('th')]\n",
    "    \n",
    "    #get table of stats\n",
    "    stats = []\n",
    "    stat_rows = rows[pos[position][2]:]\n",
    "    for row in range(len(stat_rows)):\n",
    "        stats.append([i.getText() for i in stat_rows[row].findAll('td')])\n",
    "    \n",
    "    return table"
   ]
  },
  {
   "cell_type": "code",
   "execution_count": 38,
   "id": "151dc01f-35a8-4a11-9ec1-c55a6260bb90",
   "metadata": {},
   "outputs": [
    {
     "ename": "AttributeError",
     "evalue": "'NoneType' object has no attribute 'findAll'",
     "output_type": "error",
     "traceback": [
      "\u001b[0;31m---------------------------------------------------------------------------\u001b[0m",
      "\u001b[0;31mAttributeError\u001b[0m                            Traceback (most recent call last)",
      "Input \u001b[0;32mIn [38]\u001b[0m, in \u001b[0;36m<cell line: 1>\u001b[0;34m()\u001b[0m\n\u001b[0;32m----> 1\u001b[0m hit_stats \u001b[38;5;241m=\u001b[39m \u001b[43mtop_POS_per_year\u001b[49m\u001b[43m(\u001b[49m\u001b[38;5;124;43m'\u001b[39;49m\u001b[38;5;124;43m2020\u001b[39;49m\u001b[38;5;124;43m'\u001b[39;49m\u001b[43m)\u001b[49m\n\u001b[1;32m      3\u001b[0m \u001b[38;5;28mprint\u001b[39m(\u001b[38;5;124m\"\u001b[39m\u001b[38;5;124m----- Results: -----\u001b[39m\u001b[38;5;130;01m\\n\u001b[39;00m\u001b[38;5;124m\"\u001b[39m)\n\u001b[1;32m      5\u001b[0m \u001b[38;5;28;01mfor\u001b[39;00m r \u001b[38;5;129;01min\u001b[39;00m hit_stats[:\u001b[38;5;241m5\u001b[39m]:\n",
      "Input \u001b[0;32mIn [37]\u001b[0m, in \u001b[0;36mtop_POS_per_year\u001b[0;34m(year, position)\u001b[0m\n\u001b[1;32m     11\u001b[0m page \u001b[38;5;241m=\u001b[39m soup(html)\n\u001b[1;32m     12\u001b[0m table \u001b[38;5;241m=\u001b[39m page\u001b[38;5;241m.\u001b[39mfind(\u001b[38;5;124m\"\u001b[39m\u001b[38;5;124mtable\u001b[39m\u001b[38;5;124m\"\u001b[39m, \u001b[38;5;28mid\u001b[39m\u001b[38;5;241m=\u001b[39m\u001b[38;5;124m\"\u001b[39m\u001b[38;5;124mplayers_standard_batting\u001b[39m\u001b[38;5;124m\"\u001b[39m)\n\u001b[0;32m---> 13\u001b[0m rows \u001b[38;5;241m=\u001b[39m \u001b[43mtable\u001b[49m\u001b[38;5;241;43m.\u001b[39;49m\u001b[43mfindAll\u001b[49m(\u001b[38;5;124m\"\u001b[39m\u001b[38;5;124mtr\u001b[39m\u001b[38;5;124m\"\u001b[39m)\n\u001b[1;32m     15\u001b[0m \u001b[38;5;66;03m#get column headers\u001b[39;00m\n\u001b[1;32m     16\u001b[0m cols \u001b[38;5;241m=\u001b[39m [i\u001b[38;5;241m.\u001b[39mgetText() \u001b[38;5;28;01mfor\u001b[39;00m i \u001b[38;5;129;01min\u001b[39;00m rows[pos[position][\u001b[38;5;241m1\u001b[39m]]\u001b[38;5;241m.\u001b[39mfindAll(\u001b[38;5;124m'\u001b[39m\u001b[38;5;124mth\u001b[39m\u001b[38;5;124m'\u001b[39m)]\n",
      "\u001b[0;31mAttributeError\u001b[0m: 'NoneType' object has no attribute 'findAll'"
     ]
    }
   ],
   "source": [
    "hit_stats = top_POS_per_year('2020')\n",
    "\n",
    "print(\"----- Results: -----\\n\")\n",
    "\n",
    "for r in hit_stats[:5]:\n",
    "    print(' '.join(r))\n",
    "    \n",
    "print(\"\\n---- End Results ---\")"
   ]
  },
  {
   "cell_type": "code",
   "execution_count": 49,
   "id": "bdb8f2c0-8685-49e5-83b7-8d5165fdd5bd",
   "metadata": {},
   "outputs": [
    {
     "name": "stdout",
     "output_type": "stream",
     "text": [
      "1\n"
     ]
    }
   ],
   "source": [
    "pos = {\"Hitting\":[\"-standard-batting.shtml\", 0, 1]}\n",
    "    \n",
    "    #get html\n",
    "base_url = \"https://www.baseball-reference.com/leagues/majors/\"\n",
    "    \n",
    "html = requests.get(base_url + \"2020-standard-batting.shtml\").text\n",
    "page = soup(html)\n",
    "table = page.find_all(\"table\")\n",
    "print(len(table))"
   ]
  },
  {
   "cell_type": "code",
   "execution_count": 50,
   "id": "29fefb30-cead-40a7-983b-475243b5d82d",
   "metadata": {
    "scrolled": true,
    "tags": []
   },
   "outputs": [
    {
     "name": "stdout",
     "output_type": "stream",
     "text": [
      "[<table class=\"sortable stats_table\" data-cols-to-freeze=\",1\" id=\"teams_standard_batting\">\n",
      "<caption>Team Standard Batting Table</caption>\n",
      "<colgroup><col/><col/><col/><col/><col/><col/><col/><col/><col/><col/><col/><col/><col/><col/><col/><col/><col/><col/><col/><col/><col/><col/><col/><col/><col/><col/><col/><col/><col/></colgroup>\n",
      "<thead>\n",
      "<tr>\n",
      "<th aria-label=\"Tm\" class=\"poptip sort_default_asc left\" data-stat=\"team_name\" scope=\"col\">Tm</th>\n",
      "<th aria-label=\"#Bat\" class=\"poptip center\" data-stat=\"batters_used\" data-tip=\"&lt;strong&gt;Number of Players used in Games&lt;/strong&gt;\" scope=\"col\">#Bat</th>\n",
      "<th aria-label=\"BatAge\" class=\"poptip sort_default_asc center\" data-stat=\"age_bat\" data-tip=\"&lt;strong&gt;Batters&amp;#x2019; average age&lt;/strong&gt;&lt;br&gt;Weighted by AB + Games Played\" scope=\"col\">BatAge</th>\n",
      "<th aria-label=\"Runs Scored/Game\" class=\"poptip center\" data-stat=\"runs_per_game\" data-tip=\"Runs Scored Per Game\" scope=\"col\">R/G</th>\n",
      "<th aria-label=\"Games Played\" class=\"poptip center\" data-stat=\"G\" data-tip=\"Games Played or Pitched\" scope=\"col\">G</th>\n",
      "<th aria-label=\"Plate Appearances\" class=\"poptip center\" data-stat=\"PA\" data-tip=\"&lt;strong&gt;Plate Appearances&lt;/strong&gt;&lt;br&gt;When available, we use actual plate appearances from play-by-play game accounts&lt;br&gt;Otherwise estimated using AB + BB + HBP + SF + SH,&lt;br&gt;which excludes catcher interferences.&lt;br&gt;When &lt;span class=tooltip&gt;this color&lt;/span&gt; click for a summary of each PA.\" scope=\"col\">PA</th>\n",
      "<th aria-label=\"At Bats\" class=\"poptip center\" data-stat=\"AB\" data-tip=\"At Bats\" scope=\"col\">AB</th>\n",
      "<th aria-label=\"Runs Scored\" class=\"poptip center\" data-stat=\"R\" data-tip=\"Runs Scored/Allowed\" scope=\"col\">R</th>\n",
      "<th aria-label=\"Hits\" class=\"poptip center\" data-stat=\"H\" data-tip=\"Hits/Hits Allowed\" scope=\"col\">H</th>\n",
      "<th aria-label=\"Doubles\" class=\"poptip center\" data-stat=\"2B\" data-tip=\"Doubles Hit/Allowed\" scope=\"col\">2B</th>\n",
      "<th aria-label=\"Triples\" class=\"poptip center\" data-stat=\"3B\" data-tip=\"Triples Hit/Allowed\" scope=\"col\">3B</th>\n",
      "<th aria-label=\"Home Runs\" class=\"poptip center\" data-stat=\"HR\" data-tip=\"Home Runs Hit/Allowed\" scope=\"col\">HR</th>\n",
      "<th aria-label=\"Runs Batted In\" class=\"poptip center\" data-stat=\"RBI\" data-tip=\"Runs Batted In\" scope=\"col\">RBI</th>\n",
      "<th aria-label=\"Stolen Bases\" class=\"poptip center\" data-stat=\"SB\" data-tip=\"Stolen Bases\" scope=\"col\">SB</th>\n",
      "<th aria-label=\"Caught Stealing\" class=\"poptip center\" data-stat=\"CS\" data-tip=\"Caught Stealing\" scope=\"col\">CS</th>\n",
      "<th aria-label=\"Bases on Balls\" class=\"poptip center\" data-stat=\"BB\" data-tip=\"Bases on Balls/Walks\" scope=\"col\">BB</th>\n",
      "<th aria-label=\"Strikeouts\" class=\"poptip center\" data-stat=\"SO\" data-tip=\"Strikeouts\" scope=\"col\">SO</th>\n",
      "<th aria-label=\"Batting Average\" class=\"poptip hide_non_quals center\" data-filter=\"1\" data-name=\"Batting Average\" data-stat=\"batting_avg\" data-tip='&lt;strong&gt;Hits/At Bats&lt;/strong&gt;&lt;br&gt;For recent years, leaders need 3.1 PA&lt;br&gt;per team game played&lt;br&gt;Bold indicates highest BA using current stats&lt;br&gt;&lt;span class=\"all_time_record\"&gt;Gold&lt;/span&gt; means awarded title at end of year.' scope=\"col\">BA</th>\n",
      "<th aria-label=\"On-Base%\" class=\"poptip hide_non_quals center\" data-filter=\"1\" data-name=\"On-Base%\" data-stat=\"onbase_perc\" data-tip=\"&lt;strong&gt;(H + BB + HBP)/(At Bats + BB + HBP + SF)&lt;/strong&gt;&lt;br&gt;For recent years, leaders need 3.1 PA&lt;br&gt;per team game played\" scope=\"col\">OBP</th>\n",
      "<th aria-label=\"Slugging %\" class=\"poptip hide_non_quals center\" data-filter=\"1\" data-name=\"Slugging %\" data-stat=\"slugging_perc\" data-tip=\"&lt;strong&gt;Total Bases/At Bats or &lt;br&gt;(1B + 2*2B + 3*3B + 4*HR)/AB&lt;/strong&gt;&lt;br&gt;For recent years, leaders need 3.1 PA&lt;br&gt;per team game played\" scope=\"col\">SLG</th>\n",
      "<th aria-label=\"On-Base Plus Slugging\" class=\"poptip hide_non_quals center\" data-filter=\"1\" data-name=\"On-Base Plus Slugging\" data-stat=\"onbase_plus_slugging\" data-tip=\"&lt;strong&gt;On-Base + Slugging Percentages &lt;/strong&gt;&lt;br&gt;For recent years, leaders need 3.1 PA&lt;br&gt;per team game played\" scope=\"col\">OPS</th>\n",
      "<th aria-label=\"Adjusted OPS+\" class=\"poptip hide_non_quals center\" data-stat=\"onbase_plus_slugging_plus\" data-tip=\"&lt;strong&gt;OPS+&lt;/strong&gt;&lt;br&gt;100*[OBP/lg OBP + SLG/lg SLG - 1]&lt;br&gt;Adjusted to the player&amp;#x2019;s ballpark(s)\" scope=\"col\">OPS+</th>\n",
      "<th aria-label=\"Total Bases\" class=\"poptip center\" data-stat=\"TB\" data-tip=\"&lt;strong&gt;Total Bases&lt;/strong&gt;&lt;br&gt;Singles + 2 x Doubles + 3 x Triples + 4 x Home Runs.\" scope=\"col\">TB</th>\n",
      "<th aria-label=\"Double Plays Grounded Into\" class=\"poptip center\" data-stat=\"GIDP\" data-tip=\"&lt;strong&gt;Double Plays Grounded Into&lt;/strong&gt;&lt;br&gt;Only includes standard 6-4-3, 4-3, etc. double plays.&lt;br&gt;First tracked in 1933.&lt;br&gt;For gamelogs only in seasons we have play-by-play, we include triple plays as well.&lt;br&gt;All official seasonal totals do not include GITP's.\" scope=\"col\">GDP</th>\n",
      "<th aria-label=\"Hit By Pitch\" class=\"poptip center\" data-stat=\"HBP\" data-tip=\"Times Hit by a Pitch.\" scope=\"col\">HBP</th>\n",
      "<th aria-label=\"Sacrifice Hits\" class=\"poptip center\" data-stat=\"SH\" data-tip=\"Sacrifice Hits (Sacrifice Bunts)\" scope=\"col\">SH</th>\n",
      "<th aria-label=\"Sacrifice Flies\" class=\"poptip center\" data-stat=\"SF\" data-tip=\"&lt;strong&gt;Sacrifice Flies&lt;/strong&gt;&lt;br&gt;First tracked in 1954.\" scope=\"col\">SF</th>\n",
      "<th aria-label=\"Intentional Bases on Balls\" class=\"poptip center\" data-stat=\"IBB\" data-tip=\"&lt;strong&gt;Intentional Bases on Balls&lt;/strong&gt;&lt;br&gt;First tracked in 1955.\" scope=\"col\">IBB</th>\n",
      "<th aria-label=\"Runners Left on Base\" class=\"poptip center\" data-stat=\"LOB\" data-tip=\"Runners Left On Base\" scope=\"col\">LOB</th>\n",
      "</tr>\n",
      "</thead>\n",
      "<tbody><tr><th class=\"left\" data-stat=\"team_name\" scope=\"row\"><a href=\"/teams/ARI/2020.shtml\">Arizona Diamondbacks</a></th><td class=\"right\" data-stat=\"batters_used\">45</td><td class=\"right\" data-stat=\"age_bat\">29.1</td><td class=\"right\" data-stat=\"runs_per_game\">4.48</td><td class=\"right\" data-stat=\"G\">60</td><td class=\"right\" data-stat=\"PA\">2238</td><td class=\"right\" data-stat=\"AB\">1997</td><td class=\"right\" data-stat=\"R\">269</td><td class=\"right\" data-stat=\"H\">482</td><td class=\"right\" data-stat=\"2B\">101</td><td class=\"right\" data-stat=\"3B\">12</td><td class=\"right\" data-stat=\"HR\">58</td><td class=\"right\" data-stat=\"RBI\">255</td><td class=\"right\" data-stat=\"SB\">23</td><td class=\"right\" data-stat=\"CS\">7</td><td class=\"right\" data-stat=\"BB\">181</td><td class=\"right\" data-stat=\"SO\">461</td><td class=\"right\" data-stat=\"batting_avg\">.241</td><td class=\"right\" data-stat=\"onbase_perc\">.312</td><td class=\"right\" data-stat=\"slugging_perc\">.391</td><td class=\"right\" data-stat=\"onbase_plus_slugging\">.704</td><td class=\"right\" data-stat=\"onbase_plus_slugging_plus\">90</td><td class=\"right\" data-stat=\"TB\">781</td><td class=\"right\" data-stat=\"GIDP\">37</td><td class=\"right\" data-stat=\"HBP\">36</td><td class=\"right\" data-stat=\"SH\">1</td><td class=\"right\" data-stat=\"SF\">23</td><td class=\"right\" data-stat=\"IBB\">5</td><td class=\"right\" data-stat=\"LOB\">399</td></tr>\n",
      "<tr><th class=\"left\" data-stat=\"team_name\" scope=\"row\"><a href=\"/teams/ATL/2020.shtml\">Atlanta Braves</a></th><td class=\"right\" data-stat=\"batters_used\">48</td><td class=\"right\" data-stat=\"age_bat\">28.2</td><td class=\"right\" data-stat=\"runs_per_game\">5.80</td><td class=\"right\" data-stat=\"G\">60</td><td class=\"right\" data-stat=\"PA\">2344</td><td class=\"right\" data-stat=\"AB\">2074</td><td class=\"right\" data-stat=\"R\">348</td><td class=\"right\" data-stat=\"H\">556</td><td class=\"right\" data-stat=\"2B\">130</td><td class=\"right\" data-stat=\"3B\">3</td><td class=\"right\" data-stat=\"HR\">103</td><td class=\"right\" data-stat=\"RBI\">338</td><td class=\"right\" data-stat=\"SB\">23</td><td class=\"right\" data-stat=\"CS\">4</td><td class=\"right\" data-stat=\"BB\">239</td><td class=\"right\" data-stat=\"SO\">573</td><td class=\"right\" data-stat=\"batting_avg\">.268</td><td class=\"right\" data-stat=\"onbase_perc\">.349</td><td class=\"right\" data-stat=\"slugging_perc\">.483</td><td class=\"right\" data-stat=\"onbase_plus_slugging\">.832</td><td class=\"right\" data-stat=\"onbase_plus_slugging_plus\">117</td><td class=\"right\" data-stat=\"TB\">1001</td><td class=\"right\" data-stat=\"GIDP\">39</td><td class=\"right\" data-stat=\"HBP\">23</td><td class=\"right\" data-stat=\"SH\">1</td><td class=\"right\" data-stat=\"SF\">7</td><td class=\"right\" data-stat=\"IBB\">13</td><td class=\"right\" data-stat=\"LOB\">437</td></tr>\n",
      "<tr><th class=\"left\" data-stat=\"team_name\" scope=\"row\"><a href=\"/teams/BAL/2020.shtml\">Baltimore Orioles</a></th><td class=\"right\" data-stat=\"batters_used\">45</td><td class=\"right\" data-stat=\"age_bat\">26.3</td><td class=\"right\" data-stat=\"runs_per_game\">4.57</td><td class=\"right\" data-stat=\"G\">60</td><td class=\"right\" data-stat=\"PA\">2242</td><td class=\"right\" data-stat=\"AB\">2026</td><td class=\"right\" data-stat=\"R\">274</td><td class=\"right\" data-stat=\"H\">523</td><td class=\"right\" data-stat=\"2B\">102</td><td class=\"right\" data-stat=\"3B\">7</td><td class=\"right\" data-stat=\"HR\">77</td><td class=\"right\" data-stat=\"RBI\">264</td><td class=\"right\" data-stat=\"SB\">19</td><td class=\"right\" data-stat=\"CS\">14</td><td class=\"right\" data-stat=\"BB\">164</td><td class=\"right\" data-stat=\"SO\">514</td><td class=\"right\" data-stat=\"batting_avg\">.258</td><td class=\"right\" data-stat=\"onbase_perc\">.321</td><td class=\"right\" data-stat=\"slugging_perc\">.429</td><td class=\"right\" data-stat=\"onbase_plus_slugging\">.750</td><td class=\"right\" data-stat=\"onbase_plus_slugging_plus\">102</td><td class=\"right\" data-stat=\"TB\">870</td><td class=\"right\" data-stat=\"GIDP\">32</td><td class=\"right\" data-stat=\"HBP\">27</td><td class=\"right\" data-stat=\"SH\">15</td><td class=\"right\" data-stat=\"SF\">10</td><td class=\"right\" data-stat=\"IBB\">5</td><td class=\"right\" data-stat=\"LOB\">399</td></tr>\n",
      "<tr><th class=\"left\" data-stat=\"team_name\" scope=\"row\"><a href=\"/teams/BOS/2020.shtml\">Boston Red Sox</a></th><td class=\"right\" data-stat=\"batters_used\">47</td><td class=\"right\" data-stat=\"age_bat\">27.0</td><td class=\"right\" data-stat=\"runs_per_game\">4.87</td><td class=\"right\" data-stat=\"G\">60</td><td class=\"right\" data-stat=\"PA\">2304</td><td class=\"right\" data-stat=\"AB\">2083</td><td class=\"right\" data-stat=\"R\">292</td><td class=\"right\" data-stat=\"H\">552</td><td class=\"right\" data-stat=\"2B\">118</td><td class=\"right\" data-stat=\"3B\">7</td><td class=\"right\" data-stat=\"HR\">81</td><td class=\"right\" data-stat=\"RBI\">278</td><td class=\"right\" data-stat=\"SB\">31</td><td class=\"right\" data-stat=\"CS\">9</td><td class=\"right\" data-stat=\"BB\">187</td><td class=\"right\" data-stat=\"SO\">545</td><td class=\"right\" data-stat=\"batting_avg\">.265</td><td class=\"right\" data-stat=\"onbase_perc\">.330</td><td class=\"right\" data-stat=\"slugging_perc\">.445</td><td class=\"right\" data-stat=\"onbase_plus_slugging\">.775</td><td class=\"right\" data-stat=\"onbase_plus_slugging_plus\">104</td><td class=\"right\" data-stat=\"TB\">927</td><td class=\"right\" data-stat=\"GIDP\">51</td><td class=\"right\" data-stat=\"HBP\">21</td><td class=\"right\" data-stat=\"SH\">4</td><td class=\"right\" data-stat=\"SF\">9</td><td class=\"right\" data-stat=\"IBB\">8</td><td class=\"right\" data-stat=\"LOB\">422</td></tr>\n",
      "<tr><th class=\"left\" data-stat=\"team_name\" scope=\"row\"><a href=\"/teams/CHC/2020.shtml\">Chicago Cubs</a></th><td class=\"right\" data-stat=\"batters_used\">47</td><td class=\"right\" data-stat=\"age_bat\">27.9</td><td class=\"right\" data-stat=\"runs_per_game\">4.42</td><td class=\"right\" data-stat=\"G\">60</td><td class=\"right\" data-stat=\"PA\">2214</td><td class=\"right\" data-stat=\"AB\">1918</td><td class=\"right\" data-stat=\"R\">265</td><td class=\"right\" data-stat=\"H\">422</td><td class=\"right\" data-stat=\"2B\">82</td><td class=\"right\" data-stat=\"3B\">8</td><td class=\"right\" data-stat=\"HR\">74</td><td class=\"right\" data-stat=\"RBI\">248</td><td class=\"right\" data-stat=\"SB\">24</td><td class=\"right\" data-stat=\"CS\">10</td><td class=\"right\" data-stat=\"BB\">229</td><td class=\"right\" data-stat=\"SO\">568</td><td class=\"right\" data-stat=\"batting_avg\">.220</td><td class=\"right\" data-stat=\"onbase_perc\">.318</td><td class=\"right\" data-stat=\"slugging_perc\">.387</td><td class=\"right\" data-stat=\"onbase_plus_slugging\">.705</td><td class=\"right\" data-stat=\"onbase_plus_slugging_plus\">90</td><td class=\"right\" data-stat=\"TB\">742</td><td class=\"right\" data-stat=\"GIDP\">42</td><td class=\"right\" data-stat=\"HBP\">52</td><td class=\"right\" data-stat=\"SH\">1</td><td class=\"right\" data-stat=\"SF\">13</td><td class=\"right\" data-stat=\"IBB\">9</td><td class=\"right\" data-stat=\"LOB\">406</td></tr>\n",
      "<tr><th class=\"left\" data-stat=\"team_name\" scope=\"row\"><a href=\"/teams/CHW/2020.shtml\">Chicago White Sox</a></th><td class=\"right\" data-stat=\"batters_used\">48</td><td class=\"right\" data-stat=\"age_bat\">27.6</td><td class=\"right\" data-stat=\"runs_per_game\">5.10</td><td class=\"right\" data-stat=\"G\">60</td><td class=\"right\" data-stat=\"PA\">2267</td><td class=\"right\" data-stat=\"AB\">2047</td><td class=\"right\" data-stat=\"R\">306</td><td class=\"right\" data-stat=\"H\">534</td><td class=\"right\" data-stat=\"2B\">94</td><td class=\"right\" data-stat=\"3B\">6</td><td class=\"right\" data-stat=\"HR\">96</td><td class=\"right\" data-stat=\"RBI\">294</td><td class=\"right\" data-stat=\"SB\">20</td><td class=\"right\" data-stat=\"CS\">8</td><td class=\"right\" data-stat=\"BB\">179</td><td class=\"right\" data-stat=\"SO\">571</td><td class=\"right\" data-stat=\"batting_avg\">.261</td><td class=\"right\" data-stat=\"onbase_perc\">.326</td><td class=\"right\" data-stat=\"slugging_perc\">.453</td><td class=\"right\" data-stat=\"onbase_plus_slugging\">.779</td><td class=\"right\" data-stat=\"onbase_plus_slugging_plus\">112</td><td class=\"right\" data-stat=\"TB\">928</td><td class=\"right\" data-stat=\"GIDP\">44</td><td class=\"right\" data-stat=\"HBP\">24</td><td class=\"right\" data-stat=\"SH\">1</td><td class=\"right\" data-stat=\"SF\">13</td><td class=\"right\" data-stat=\"IBB\">1</td><td class=\"right\" data-stat=\"LOB\">397</td></tr>\n",
      "<tr><th class=\"left\" data-stat=\"team_name\" scope=\"row\"><a href=\"/teams/CIN/2020.shtml\">Cincinnati Reds</a></th><td class=\"right\" data-stat=\"batters_used\">43</td><td class=\"right\" data-stat=\"age_bat\">29.1</td><td class=\"right\" data-stat=\"runs_per_game\">4.05</td><td class=\"right\" data-stat=\"G\">60</td><td class=\"right\" data-stat=\"PA\">2123</td><td class=\"right\" data-stat=\"AB\">1842</td><td class=\"right\" data-stat=\"R\">243</td><td class=\"right\" data-stat=\"H\">390</td><td class=\"right\" data-stat=\"2B\">76</td><td class=\"right\" data-stat=\"3B\">3</td><td class=\"right\" data-stat=\"HR\">90</td><td class=\"right\" data-stat=\"RBI\">237</td><td class=\"right\" data-stat=\"SB\">29</td><td class=\"right\" data-stat=\"CS\">9</td><td class=\"right\" data-stat=\"BB\">239</td><td class=\"right\" data-stat=\"SO\">534</td><td class=\"right\" data-stat=\"batting_avg\">.212</td><td class=\"right\" data-stat=\"onbase_perc\">.312</td><td class=\"right\" data-stat=\"slugging_perc\">.403</td><td class=\"right\" data-stat=\"onbase_plus_slugging\">.715</td><td class=\"right\" data-stat=\"onbase_plus_slugging_plus\">85</td><td class=\"right\" data-stat=\"TB\">742</td><td class=\"right\" data-stat=\"GIDP\">44</td><td class=\"right\" data-stat=\"HBP\">33</td><td class=\"right iz\" data-stat=\"SH\">0</td><td class=\"right\" data-stat=\"SF\">7</td><td class=\"right\" data-stat=\"IBB\">4</td><td class=\"right\" data-stat=\"LOB\">369</td></tr>\n",
      "<tr><th class=\"left\" data-stat=\"team_name\" scope=\"row\"><a href=\"/teams/CLE/2020.shtml\">Cleveland Indians</a></th><td class=\"right\" data-stat=\"batters_used\">39</td><td class=\"right\" data-stat=\"age_bat\">27.9</td><td class=\"right\" data-stat=\"runs_per_game\">4.13</td><td class=\"right\" data-stat=\"G\">60</td><td class=\"right\" data-stat=\"PA\">2247</td><td class=\"right\" data-stat=\"AB\">1959</td><td class=\"right\" data-stat=\"R\">248</td><td class=\"right\" data-stat=\"H\">446</td><td class=\"right\" data-stat=\"2B\">96</td><td class=\"right\" data-stat=\"3B\">5</td><td class=\"right\" data-stat=\"HR\">59</td><td class=\"right\" data-stat=\"RBI\">234</td><td class=\"right\" data-stat=\"SB\">25</td><td class=\"right\" data-stat=\"CS\">10</td><td class=\"right\" data-stat=\"BB\">239</td><td class=\"right\" data-stat=\"SO\">517</td><td class=\"right\" data-stat=\"batting_avg\">.228</td><td class=\"right\" data-stat=\"onbase_perc\">.317</td><td class=\"right\" data-stat=\"slugging_perc\">.372</td><td class=\"right\" data-stat=\"onbase_plus_slugging\">.689</td><td class=\"right\" data-stat=\"onbase_plus_slugging_plus\">88</td><td class=\"right\" data-stat=\"TB\">729</td><td class=\"right\" data-stat=\"GIDP\">40</td><td class=\"right\" data-stat=\"HBP\">24</td><td class=\"right\" data-stat=\"SH\">7</td><td class=\"right\" data-stat=\"SF\">16</td><td class=\"right\" data-stat=\"IBB\">4</td><td class=\"right\" data-stat=\"LOB\">404</td></tr>\n",
      "<tr><th class=\"left\" data-stat=\"team_name\" scope=\"row\"><a href=\"/teams/COL/2020.shtml\">Colorado Rockies</a></th><td class=\"right\" data-stat=\"batters_used\">40</td><td class=\"right\" data-stat=\"age_bat\">28.7</td><td class=\"right\" data-stat=\"runs_per_game\">4.58</td><td class=\"right\" data-stat=\"G\">60</td><td class=\"right\" data-stat=\"PA\">2257</td><td class=\"right\" data-stat=\"AB\">2057</td><td class=\"right\" data-stat=\"R\">275</td><td class=\"right\" data-stat=\"H\">528</td><td class=\"right\" data-stat=\"2B\">84</td><td class=\"right\" data-stat=\"3B\">16</td><td class=\"right\" data-stat=\"HR\">63</td><td class=\"right\" data-stat=\"RBI\">264</td><td class=\"right\" data-stat=\"SB\">42</td><td class=\"right\" data-stat=\"CS\">9</td><td class=\"right\" data-stat=\"BB\">161</td><td class=\"right\" data-stat=\"SO\">543</td><td class=\"right\" data-stat=\"batting_avg\">.257</td><td class=\"right\" data-stat=\"onbase_perc\">.311</td><td class=\"right\" data-stat=\"slugging_perc\">.405</td><td class=\"right\" data-stat=\"onbase_plus_slugging\">.716</td><td class=\"right\" data-stat=\"onbase_plus_slugging_plus\">81</td><td class=\"right\" data-stat=\"TB\">833</td><td class=\"right\" data-stat=\"GIDP\">41</td><td class=\"right\" data-stat=\"HBP\">10</td><td class=\"right\" data-stat=\"SH\">7</td><td class=\"right\" data-stat=\"SF\">19</td><td class=\"right\" data-stat=\"IBB\">12</td><td class=\"right\" data-stat=\"LOB\">389</td></tr>\n",
      "<tr><th class=\"left\" data-stat=\"team_name\" scope=\"row\"><a href=\"/teams/DET/2020.shtml\">Detroit Tigers</a></th><td class=\"right\" data-stat=\"batters_used\">45</td><td class=\"right\" data-stat=\"age_bat\">27.5</td><td class=\"right\" data-stat=\"runs_per_game\">4.29</td><td class=\"right\" data-stat=\"G\">58</td><td class=\"right\" data-stat=\"PA\">2076</td><td class=\"right\" data-stat=\"AB\">1893</td><td class=\"right\" data-stat=\"R\">249</td><td class=\"right\" data-stat=\"H\">463</td><td class=\"right\" data-stat=\"2B\">78</td><td class=\"right\" data-stat=\"3B\">12</td><td class=\"right\" data-stat=\"HR\">62</td><td class=\"right\" data-stat=\"RBI\">242</td><td class=\"right\" data-stat=\"SB\">19</td><td class=\"right\" data-stat=\"CS\">6</td><td class=\"right\" data-stat=\"BB\">147</td><td class=\"right\" data-stat=\"SO\">567</td><td class=\"right\" data-stat=\"batting_avg\">.245</td><td class=\"right\" data-stat=\"onbase_perc\">.303</td><td class=\"right\" data-stat=\"slugging_perc\">.397</td><td class=\"right\" data-stat=\"onbase_plus_slugging\">.700</td><td class=\"right\" data-stat=\"onbase_plus_slugging_plus\">91</td><td class=\"right\" data-stat=\"TB\">751</td><td class=\"right\" data-stat=\"GIDP\">42</td><td class=\"right\" data-stat=\"HBP\">19</td><td class=\"right\" data-stat=\"SH\">1</td><td class=\"right\" data-stat=\"SF\">14</td><td class=\"right\" data-stat=\"IBB\">1</td><td class=\"right\" data-stat=\"LOB\">333</td></tr>\n",
      "<tr><th class=\"left\" data-stat=\"team_name\" scope=\"row\"><a href=\"/teams/HOU/2020.shtml\">Houston Astros</a></th><td class=\"right\" data-stat=\"batters_used\">43</td><td class=\"right\" data-stat=\"age_bat\">29.2</td><td class=\"right\" data-stat=\"runs_per_game\">4.65</td><td class=\"right\" data-stat=\"G\">60</td><td class=\"right\" data-stat=\"PA\">2229</td><td class=\"right\" data-stat=\"AB\">1992</td><td class=\"right\" data-stat=\"R\">279</td><td class=\"right\" data-stat=\"H\">478</td><td class=\"right\" data-stat=\"2B\">103</td><td class=\"right\" data-stat=\"3B\">12</td><td class=\"right\" data-stat=\"HR\">69</td><td class=\"right\" data-stat=\"RBI\">268</td><td class=\"right\" data-stat=\"SB\">22</td><td class=\"right\" data-stat=\"CS\">11</td><td class=\"right\" data-stat=\"BB\">192</td><td class=\"right\" data-stat=\"SO\">440</td><td class=\"right\" data-stat=\"batting_avg\">.240</td><td class=\"right\" data-stat=\"onbase_perc\">.312</td><td class=\"right\" data-stat=\"slugging_perc\">.408</td><td class=\"right\" data-stat=\"onbase_plus_slugging\">.720</td><td class=\"right\" data-stat=\"onbase_plus_slugging_plus\">95</td><td class=\"right\" data-stat=\"TB\">812</td><td class=\"right\" data-stat=\"GIDP\">39</td><td class=\"right\" data-stat=\"HBP\">23</td><td class=\"right\" data-stat=\"SH\">6</td><td class=\"right\" data-stat=\"SF\">13</td><td class=\"right\" data-stat=\"IBB\">5</td><td class=\"right\" data-stat=\"LOB\">382</td></tr>\n",
      "<tr><th class=\"left\" data-stat=\"team_name\" scope=\"row\"><a href=\"/teams/KCR/2020.shtml\">Kansas City Royals</a></th><td class=\"right\" data-stat=\"batters_used\">48</td><td class=\"right\" data-stat=\"age_bat\">27.8</td><td class=\"right\" data-stat=\"runs_per_game\">4.13</td><td class=\"right\" data-stat=\"G\">60</td><td class=\"right\" data-stat=\"PA\">2200</td><td class=\"right\" data-stat=\"AB\">1988</td><td class=\"right\" data-stat=\"R\">248</td><td class=\"right\" data-stat=\"H\">485</td><td class=\"right\" data-stat=\"2B\">97</td><td class=\"right\" data-stat=\"3B\">7</td><td class=\"right\" data-stat=\"HR\">68</td><td class=\"right\" data-stat=\"RBI\">237</td><td class=\"right\" data-stat=\"SB\">49</td><td class=\"right\" data-stat=\"CS\">20</td><td class=\"right\" data-stat=\"BB\">172</td><td class=\"right\" data-stat=\"SO\">527</td><td class=\"right\" data-stat=\"batting_avg\">.244</td><td class=\"right\" data-stat=\"onbase_perc\">.309</td><td class=\"right\" data-stat=\"slugging_perc\">.402</td><td class=\"right\" data-stat=\"onbase_plus_slugging\">.711</td><td class=\"right\" data-stat=\"onbase_plus_slugging_plus\">91</td><td class=\"right\" data-stat=\"TB\">800</td><td class=\"right\" data-stat=\"GIDP\">28</td><td class=\"right\" data-stat=\"HBP\">18</td><td class=\"right\" data-stat=\"SH\">8</td><td class=\"right\" data-stat=\"SF\">10</td><td class=\"right\" data-stat=\"IBB\">3</td><td class=\"right\" data-stat=\"LOB\">392</td></tr>\n",
      "<tr><th class=\"left\" data-stat=\"team_name\" scope=\"row\"><a href=\"/teams/LAA/2020.shtml\">Los Angeles Angels</a></th><td class=\"right\" data-stat=\"batters_used\">45</td><td class=\"right\" data-stat=\"age_bat\">28.5</td><td class=\"right\" data-stat=\"runs_per_game\">4.90</td><td class=\"right\" data-stat=\"G\">60</td><td class=\"right\" data-stat=\"PA\">2308</td><td class=\"right\" data-stat=\"AB\">2020</td><td class=\"right\" data-stat=\"R\">294</td><td class=\"right\" data-stat=\"H\">501</td><td class=\"right\" data-stat=\"2B\">97</td><td class=\"right\" data-stat=\"3B\">8</td><td class=\"right\" data-stat=\"HR\">85</td><td class=\"right\" data-stat=\"RBI\">285</td><td class=\"right\" data-stat=\"SB\">21</td><td class=\"right\" data-stat=\"CS\">8</td><td class=\"right\" data-stat=\"BB\">239</td><td class=\"right\" data-stat=\"SO\">490</td><td class=\"right\" data-stat=\"batting_avg\">.248</td><td class=\"right\" data-stat=\"onbase_perc\">.332</td><td class=\"right\" data-stat=\"slugging_perc\">.430</td><td class=\"right\" data-stat=\"onbase_plus_slugging\">.763</td><td class=\"right\" data-stat=\"onbase_plus_slugging_plus\">107</td><td class=\"right\" data-stat=\"TB\">869</td><td class=\"right\" data-stat=\"GIDP\">49</td><td class=\"right\" data-stat=\"HBP\">25</td><td class=\"right\" data-stat=\"SH\">6</td><td class=\"right\" data-stat=\"SF\">18</td><td class=\"right\" data-stat=\"IBB\">8</td><td class=\"right\" data-stat=\"LOB\">425</td></tr>\n",
      "<tr><th class=\"left\" data-stat=\"team_name\" scope=\"row\"><a href=\"/teams/LAD/2020.shtml\">Los Angeles Dodgers</a></th><td class=\"right\" data-stat=\"batters_used\">38</td><td class=\"right\" data-stat=\"age_bat\">28.0</td><td class=\"right\" data-stat=\"runs_per_game\">5.82</td><td class=\"right\" data-stat=\"G\">60</td><td class=\"right\" data-stat=\"PA\">2316</td><td class=\"right\" data-stat=\"AB\">2042</td><td class=\"right\" data-stat=\"R\">349</td><td class=\"right\" data-stat=\"H\">523</td><td class=\"right\" data-stat=\"2B\">97</td><td class=\"right\" data-stat=\"3B\">6</td><td class=\"right\" data-stat=\"HR\">118</td><td class=\"right\" data-stat=\"RBI\">327</td><td class=\"right\" data-stat=\"SB\">29</td><td class=\"right\" data-stat=\"CS\">8</td><td class=\"right\" data-stat=\"BB\">228</td><td class=\"right\" data-stat=\"SO\">471</td><td class=\"right\" data-stat=\"batting_avg\">.256</td><td class=\"right\" data-stat=\"onbase_perc\">.338</td><td class=\"right\" data-stat=\"slugging_perc\">.483</td><td class=\"right\" data-stat=\"onbase_plus_slugging\">.821</td><td class=\"right\" data-stat=\"onbase_plus_slugging_plus\">119</td><td class=\"right\" data-stat=\"TB\">986</td><td class=\"right\" data-stat=\"GIDP\">46</td><td class=\"right\" data-stat=\"HBP\">30</td><td class=\"right\" data-stat=\"SH\">3</td><td class=\"right\" data-stat=\"SF\">12</td><td class=\"right\" data-stat=\"IBB\">7</td><td class=\"right\" data-stat=\"LOB\">391</td></tr>\n",
      "<tr><th class=\"left\" data-stat=\"team_name\" scope=\"row\"><a href=\"/teams/MIA/2020.shtml\">Miami Marlins</a></th><td class=\"right\" data-stat=\"batters_used\">61</td><td class=\"right\" data-stat=\"age_bat\">29.0</td><td class=\"right\" data-stat=\"runs_per_game\">4.38</td><td class=\"right\" data-stat=\"G\">60</td><td class=\"right\" data-stat=\"PA\">2167</td><td class=\"right\" data-stat=\"AB\">1935</td><td class=\"right\" data-stat=\"R\">263</td><td class=\"right\" data-stat=\"H\">472</td><td class=\"right\" data-stat=\"2B\">82</td><td class=\"right\" data-stat=\"3B\">5</td><td class=\"right\" data-stat=\"HR\">60</td><td class=\"right\" data-stat=\"RBI\">247</td><td class=\"right\" data-stat=\"SB\">51</td><td class=\"right\" data-stat=\"CS\">14</td><td class=\"right\" data-stat=\"BB\">191</td><td class=\"right\" data-stat=\"SO\">537</td><td class=\"right\" data-stat=\"batting_avg\">.244</td><td class=\"right\" data-stat=\"onbase_perc\">.319</td><td class=\"right\" data-stat=\"slugging_perc\">.384</td><td class=\"right\" data-stat=\"onbase_plus_slugging\">.703</td><td class=\"right\" data-stat=\"onbase_plus_slugging_plus\">89</td><td class=\"right\" data-stat=\"TB\">744</td><td class=\"right\" data-stat=\"GIDP\">37</td><td class=\"right\" data-stat=\"HBP\">25</td><td class=\"right\" data-stat=\"SH\">6</td><td class=\"right\" data-stat=\"SF\">9</td><td class=\"right\" data-stat=\"IBB\">6</td><td class=\"right\" data-stat=\"LOB\">396</td></tr>\n",
      "<tr><th class=\"left\" data-stat=\"team_name\" scope=\"row\"><a href=\"/teams/MIL/2020.shtml\">Milwaukee Brewers</a></th><td class=\"right\" data-stat=\"batters_used\">43</td><td class=\"right\" data-stat=\"age_bat\">28.5</td><td class=\"right\" data-stat=\"runs_per_game\">4.12</td><td class=\"right\" data-stat=\"G\">60</td><td class=\"right\" data-stat=\"PA\">2188</td><td class=\"right\" data-stat=\"AB\">1920</td><td class=\"right\" data-stat=\"R\">247</td><td class=\"right\" data-stat=\"H\">429</td><td class=\"right\" data-stat=\"2B\">83</td><td class=\"right\" data-stat=\"3B\">5</td><td class=\"right\" data-stat=\"HR\">75</td><td class=\"right\" data-stat=\"RBI\">238</td><td class=\"right\" data-stat=\"SB\">15</td><td class=\"right\" data-stat=\"CS\">11</td><td class=\"right\" data-stat=\"BB\">221</td><td class=\"right\" data-stat=\"SO\">582</td><td class=\"right\" data-stat=\"batting_avg\">.223</td><td class=\"right\" data-stat=\"onbase_perc\">.313</td><td class=\"right\" data-stat=\"slugging_perc\">.389</td><td class=\"right\" data-stat=\"onbase_plus_slugging\">.702</td><td class=\"right\" data-stat=\"onbase_plus_slugging_plus\">87</td><td class=\"right\" data-stat=\"TB\">747</td><td class=\"right\" data-stat=\"GIDP\">53</td><td class=\"right\" data-stat=\"HBP\">35</td><td class=\"right iz\" data-stat=\"SH\">0</td><td class=\"right\" data-stat=\"SF\">10</td><td class=\"right\" data-stat=\"IBB\">8</td><td class=\"right\" data-stat=\"LOB\">384</td></tr>\n",
      "<tr><th class=\"left\" data-stat=\"team_name\" scope=\"row\"><a href=\"/teams/MIN/2020.shtml\">Minnesota Twins</a></th><td class=\"right\" data-stat=\"batters_used\">43</td><td class=\"right\" data-stat=\"age_bat\">28.7</td><td class=\"right\" data-stat=\"runs_per_game\">4.48</td><td class=\"right\" data-stat=\"G\">60</td><td class=\"right\" data-stat=\"PA\">2168</td><td class=\"right\" data-stat=\"AB\">1937</td><td class=\"right\" data-stat=\"R\">269</td><td class=\"right\" data-stat=\"H\">468</td><td class=\"right\" data-stat=\"2B\">81</td><td class=\"right\" data-stat=\"3B\">3</td><td class=\"right\" data-stat=\"HR\">91</td><td class=\"right\" data-stat=\"RBI\">258</td><td class=\"right\" data-stat=\"SB\">14</td><td class=\"right\" data-stat=\"CS\">7</td><td class=\"right\" data-stat=\"BB\">186</td><td class=\"right\" data-stat=\"SO\">528</td><td class=\"right\" data-stat=\"batting_avg\">.242</td><td class=\"right\" data-stat=\"onbase_perc\">.315</td><td class=\"right\" data-stat=\"slugging_perc\">.427</td><td class=\"right\" data-stat=\"onbase_plus_slugging\">.743</td><td class=\"right\" data-stat=\"onbase_plus_slugging_plus\">104</td><td class=\"right\" data-stat=\"TB\">828</td><td class=\"right\" data-stat=\"GIDP\">38</td><td class=\"right\" data-stat=\"HBP\">29</td><td class=\"right\" data-stat=\"SH\">2</td><td class=\"right\" data-stat=\"SF\">14</td><td class=\"right\" data-stat=\"IBB\">9</td><td class=\"right\" data-stat=\"LOB\">372</td></tr>\n",
      "<tr><th class=\"left\" data-stat=\"team_name\" scope=\"row\"><a href=\"/teams/NYM/2020.shtml\">New York Mets</a></th><td class=\"right\" data-stat=\"batters_used\">47</td><td class=\"right\" data-stat=\"age_bat\">27.8</td><td class=\"right\" data-stat=\"runs_per_game\">4.77</td><td class=\"right\" data-stat=\"G\">60</td><td class=\"right\" data-stat=\"PA\">2279</td><td class=\"right\" data-stat=\"AB\">2023</td><td class=\"right\" data-stat=\"R\">286</td><td class=\"right\" data-stat=\"H\">551</td><td class=\"right\" data-stat=\"2B\">106</td><td class=\"right\" data-stat=\"3B\">7</td><td class=\"right\" data-stat=\"HR\">86</td><td class=\"right\" data-stat=\"RBI\">278</td><td class=\"right\" data-stat=\"SB\">20</td><td class=\"right\" data-stat=\"CS\">10</td><td class=\"right\" data-stat=\"BB\">197</td><td class=\"right\" data-stat=\"SO\">498</td><td class=\"right\" data-stat=\"batting_avg\">.272</td><td class=\"right\" data-stat=\"onbase_perc\">.348</td><td class=\"right\" data-stat=\"slugging_perc\">.459</td><td class=\"right\" data-stat=\"onbase_plus_slugging\">.807</td><td class=\"right\" data-stat=\"onbase_plus_slugging_plus\">121</td><td class=\"right\" data-stat=\"TB\">929</td><td class=\"right\" data-stat=\"GIDP\">53</td><td class=\"right\" data-stat=\"HBP\">45</td><td class=\"right\" data-stat=\"SH\">1</td><td class=\"right\" data-stat=\"SF\">13</td><td class=\"right\" data-stat=\"IBB\">8</td><td class=\"right\" data-stat=\"LOB\">445</td></tr>\n",
      "<tr><th class=\"left\" data-stat=\"team_name\" scope=\"row\"><a href=\"/teams/NYY/2020.shtml\">New York Yankees</a></th><td class=\"right\" data-stat=\"batters_used\">43</td><td class=\"right\" data-stat=\"age_bat\">28.5</td><td class=\"right\" data-stat=\"runs_per_game\">5.25</td><td class=\"right\" data-stat=\"G\">60</td><td class=\"right\" data-stat=\"PA\">2210</td><td class=\"right\" data-stat=\"AB\">1915</td><td class=\"right\" data-stat=\"R\">315</td><td class=\"right\" data-stat=\"H\">473</td><td class=\"right\" data-stat=\"2B\">87</td><td class=\"right\" data-stat=\"3B\">7</td><td class=\"right\" data-stat=\"HR\">94</td><td class=\"right\" data-stat=\"RBI\">301</td><td class=\"right\" data-stat=\"SB\">27</td><td class=\"right\" data-stat=\"CS\">7</td><td class=\"right\" data-stat=\"BB\">251</td><td class=\"right\" data-stat=\"SO\">480</td><td class=\"right\" data-stat=\"batting_avg\">.247</td><td class=\"right\" data-stat=\"onbase_perc\">.342</td><td class=\"right\" data-stat=\"slugging_perc\">.447</td><td class=\"right\" data-stat=\"onbase_plus_slugging\">.789</td><td class=\"right\" data-stat=\"onbase_plus_slugging_plus\">118</td><td class=\"right\" data-stat=\"TB\">856</td><td class=\"right\" data-stat=\"GIDP\">51</td><td class=\"right\" data-stat=\"HBP\">30</td><td class=\"right\" data-stat=\"SH\">1</td><td class=\"right\" data-stat=\"SF\">11</td><td class=\"right\" data-stat=\"IBB\">5</td><td class=\"right\" data-stat=\"LOB\">399</td></tr>\n",
      "<tr><th class=\"left\" data-stat=\"team_name\" scope=\"row\"><a href=\"/teams/OAK/2020.shtml\">Oakland Athletics</a></th><td class=\"right\" data-stat=\"batters_used\">38</td><td class=\"right\" data-stat=\"age_bat\">28.1</td><td class=\"right\" data-stat=\"runs_per_game\">4.57</td><td class=\"right\" data-stat=\"G\">60</td><td class=\"right\" data-stat=\"PA\">2201</td><td class=\"right\" data-stat=\"AB\">1908</td><td class=\"right\" data-stat=\"R\">274</td><td class=\"right\" data-stat=\"H\">430</td><td class=\"right\" data-stat=\"2B\">91</td><td class=\"right\" data-stat=\"3B\">11</td><td class=\"right\" data-stat=\"HR\">71</td><td class=\"right\" data-stat=\"RBI\">264</td><td class=\"right\" data-stat=\"SB\">26</td><td class=\"right\" data-stat=\"CS\">3</td><td class=\"right\" data-stat=\"BB\">238</td><td class=\"right\" data-stat=\"SO\">524</td><td class=\"right\" data-stat=\"batting_avg\">.225</td><td class=\"right\" data-stat=\"onbase_perc\">.322</td><td class=\"right\" data-stat=\"slugging_perc\">.396</td><td class=\"right\" data-stat=\"onbase_plus_slugging\">.718</td><td class=\"right\" data-stat=\"onbase_plus_slugging_plus\">100</td><td class=\"right\" data-stat=\"TB\">756</td><td class=\"right\" data-stat=\"GIDP\">44</td><td class=\"right\" data-stat=\"HBP\">39</td><td class=\"right\" data-stat=\"SH\">2</td><td class=\"right\" data-stat=\"SF\">14</td><td class=\"right\" data-stat=\"IBB\">5</td><td class=\"right\" data-stat=\"LOB\">391</td></tr>\n",
      "<tr><th class=\"left\" data-stat=\"team_name\" scope=\"row\"><a href=\"/teams/PHI/2020.shtml\">Philadelphia Phillies</a></th><td class=\"right\" data-stat=\"batters_used\">46</td><td class=\"right\" data-stat=\"age_bat\">28.5</td><td class=\"right\" data-stat=\"runs_per_game\">5.10</td><td class=\"right\" data-stat=\"G\">60</td><td class=\"right\" data-stat=\"PA\">2223</td><td class=\"right\" data-stat=\"AB\">1948</td><td class=\"right\" data-stat=\"R\">306</td><td class=\"right\" data-stat=\"H\">500</td><td class=\"right\" data-stat=\"2B\">90</td><td class=\"right\" data-stat=\"3B\">10</td><td class=\"right\" data-stat=\"HR\">82</td><td class=\"right\" data-stat=\"RBI\">289</td><td class=\"right\" data-stat=\"SB\">35</td><td class=\"right\" data-stat=\"CS\">8</td><td class=\"right\" data-stat=\"BB\">229</td><td class=\"right\" data-stat=\"SO\">480</td><td class=\"right\" data-stat=\"batting_avg\">.257</td><td class=\"right\" data-stat=\"onbase_perc\">.342</td><td class=\"right\" data-stat=\"slugging_perc\">.439</td><td class=\"right\" data-stat=\"onbase_plus_slugging\">.781</td><td class=\"right\" data-stat=\"onbase_plus_slugging_plus\">109</td><td class=\"right\" data-stat=\"TB\">856</td><td class=\"right\" data-stat=\"GIDP\">40</td><td class=\"right\" data-stat=\"HBP\">28</td><td class=\"right\" data-stat=\"SH\">8</td><td class=\"right\" data-stat=\"SF\">10</td><td class=\"right\" data-stat=\"IBB\">16</td><td class=\"right\" data-stat=\"LOB\">419</td></tr>\n",
      "<tr><th class=\"left\" data-stat=\"team_name\" scope=\"row\"><a href=\"/teams/PIT/2020.shtml\">Pittsburgh Pirates</a></th><td class=\"right\" data-stat=\"batters_used\">49</td><td class=\"right\" data-stat=\"age_bat\">27.1</td><td class=\"right\" data-stat=\"runs_per_game\">3.65</td><td class=\"right\" data-stat=\"G\">60</td><td class=\"right\" data-stat=\"PA\">2134</td><td class=\"right\" data-stat=\"AB\">1932</td><td class=\"right\" data-stat=\"R\">219</td><td class=\"right\" data-stat=\"H\">425</td><td class=\"right\" data-stat=\"2B\">76</td><td class=\"right\" data-stat=\"3B\">6</td><td class=\"right\" data-stat=\"HR\">59</td><td class=\"right\" data-stat=\"RBI\">210</td><td class=\"right\" data-stat=\"SB\">16</td><td class=\"right\" data-stat=\"CS\">11</td><td class=\"right\" data-stat=\"BB\">167</td><td class=\"right\" data-stat=\"SO\">521</td><td class=\"right\" data-stat=\"batting_avg\">.220</td><td class=\"right\" data-stat=\"onbase_perc\">.284</td><td class=\"right\" data-stat=\"slugging_perc\">.357</td><td class=\"right\" data-stat=\"onbase_plus_slugging\">.641</td><td class=\"right\" data-stat=\"onbase_plus_slugging_plus\">74</td><td class=\"right\" data-stat=\"TB\">690</td><td class=\"right\" data-stat=\"GIDP\">34</td><td class=\"right\" data-stat=\"HBP\">11</td><td class=\"right\" data-stat=\"SH\">7</td><td class=\"right\" data-stat=\"SF\">15</td><td class=\"right\" data-stat=\"IBB\">6</td><td class=\"right\" data-stat=\"LOB\">345</td></tr>\n",
      "<tr><th class=\"left\" data-stat=\"team_name\" scope=\"row\"><a href=\"/teams/SDP/2020.shtml\">San Diego Padres</a></th><td class=\"right\" data-stat=\"batters_used\">47</td><td class=\"right\" data-stat=\"age_bat\">26.7</td><td class=\"right\" data-stat=\"runs_per_game\">5.42</td><td class=\"right\" data-stat=\"G\">60</td><td class=\"right\" data-stat=\"PA\">2231</td><td class=\"right\" data-stat=\"AB\">1972</td><td class=\"right\" data-stat=\"R\">325</td><td class=\"right\" data-stat=\"H\">506</td><td class=\"right\" data-stat=\"2B\">103</td><td class=\"right\" data-stat=\"3B\">12</td><td class=\"right\" data-stat=\"HR\">95</td><td class=\"right\" data-stat=\"RBI\">312</td><td class=\"right\" data-stat=\"SB\">55</td><td class=\"right\" data-stat=\"CS\">13</td><td class=\"right\" data-stat=\"BB\">204</td><td class=\"right\" data-stat=\"SO\">479</td><td class=\"right\" data-stat=\"batting_avg\">.257</td><td class=\"right\" data-stat=\"onbase_perc\">.333</td><td class=\"right\" data-stat=\"slugging_perc\">.466</td><td class=\"right\" data-stat=\"onbase_plus_slugging\">.798</td><td class=\"right\" data-stat=\"onbase_plus_slugging_plus\">120</td><td class=\"right\" data-stat=\"TB\">918</td><td class=\"right\" data-stat=\"GIDP\">37</td><td class=\"right\" data-stat=\"HBP\">28</td><td class=\"right\" data-stat=\"SH\">12</td><td class=\"right\" data-stat=\"SF\">14</td><td class=\"right\" data-stat=\"IBB\">6</td><td class=\"right\" data-stat=\"LOB\">363</td></tr>\n",
      "<tr><th class=\"left\" data-stat=\"team_name\" scope=\"row\"><a href=\"/teams/SEA/2020.shtml\">Seattle Mariners</a></th><td class=\"right\" data-stat=\"batters_used\">49</td><td class=\"right\" data-stat=\"age_bat\">26.6</td><td class=\"right\" data-stat=\"runs_per_game\">4.23</td><td class=\"right\" data-stat=\"G\">60</td><td class=\"right\" data-stat=\"PA\">2181</td><td class=\"right\" data-stat=\"AB\">1929</td><td class=\"right\" data-stat=\"R\">254</td><td class=\"right\" data-stat=\"H\">435</td><td class=\"right\" data-stat=\"2B\">88</td><td class=\"right\" data-stat=\"3B\">5</td><td class=\"right\" data-stat=\"HR\">60</td><td class=\"right\" data-stat=\"RBI\">244</td><td class=\"right\" data-stat=\"SB\">50</td><td class=\"right\" data-stat=\"CS\">16</td><td class=\"right\" data-stat=\"BB\">207</td><td class=\"right\" data-stat=\"SO\">545</td><td class=\"right\" data-stat=\"batting_avg\">.226</td><td class=\"right\" data-stat=\"onbase_perc\">.309</td><td class=\"right\" data-stat=\"slugging_perc\">.370</td><td class=\"right\" data-stat=\"onbase_plus_slugging\">.678</td><td class=\"right\" data-stat=\"onbase_plus_slugging_plus\">90</td><td class=\"right\" data-stat=\"TB\">713</td><td class=\"right\" data-stat=\"GIDP\">35</td><td class=\"right\" data-stat=\"HBP\">30</td><td class=\"right\" data-stat=\"SH\">3</td><td class=\"right\" data-stat=\"SF\">12</td><td class=\"right\" data-stat=\"IBB\">5</td><td class=\"right\" data-stat=\"LOB\">373</td></tr>\n",
      "<tr><th class=\"left\" data-stat=\"team_name\" scope=\"row\"><a href=\"/teams/SFG/2020.shtml\">San Francisco Giants</a></th><td class=\"right\" data-stat=\"batters_used\">45</td><td class=\"right\" data-stat=\"age_bat\">29.8</td><td class=\"right\" data-stat=\"runs_per_game\">4.98</td><td class=\"right\" data-stat=\"G\">60</td><td class=\"right\" data-stat=\"PA\">2259</td><td class=\"right\" data-stat=\"AB\">2019</td><td class=\"right\" data-stat=\"R\">299</td><td class=\"right\" data-stat=\"H\">532</td><td class=\"right\" data-stat=\"2B\">107</td><td class=\"right\" data-stat=\"3B\">14</td><td class=\"right\" data-stat=\"HR\">81</td><td class=\"right\" data-stat=\"RBI\">290</td><td class=\"right\" data-stat=\"SB\">19</td><td class=\"right\" data-stat=\"CS\">8</td><td class=\"right\" data-stat=\"BB\">195</td><td class=\"right\" data-stat=\"SO\">499</td><td class=\"right\" data-stat=\"batting_avg\">.263</td><td class=\"right\" data-stat=\"onbase_perc\">.335</td><td class=\"right\" data-stat=\"slugging_perc\">.451</td><td class=\"right\" data-stat=\"onbase_plus_slugging\">.785</td><td class=\"right\" data-stat=\"onbase_plus_slugging_plus\">115</td><td class=\"right\" data-stat=\"TB\">910</td><td class=\"right\" data-stat=\"GIDP\">51</td><td class=\"right\" data-stat=\"HBP\">27</td><td class=\"right\" data-stat=\"SH\">4</td><td class=\"right\" data-stat=\"SF\">13</td><td class=\"right\" data-stat=\"IBB\">8</td><td class=\"right\" data-stat=\"LOB\">404</td></tr>\n",
      "<tr><th class=\"left\" data-stat=\"team_name\" scope=\"row\"><a href=\"/teams/STL/2020.shtml\">St. Louis Cardinals</a></th><td class=\"right\" data-stat=\"batters_used\">44</td><td class=\"right\" data-stat=\"age_bat\">28.8</td><td class=\"right\" data-stat=\"runs_per_game\">4.14</td><td class=\"right\" data-stat=\"G\">58</td><td class=\"right\" data-stat=\"PA\">2011</td><td class=\"right\" data-stat=\"AB\">1752</td><td class=\"right\" data-stat=\"R\">240</td><td class=\"right\" data-stat=\"H\">410</td><td class=\"right\" data-stat=\"2B\">73</td><td class=\"right\" data-stat=\"3B\">7</td><td class=\"right\" data-stat=\"HR\">51</td><td class=\"right\" data-stat=\"RBI\">231</td><td class=\"right\" data-stat=\"SB\">18</td><td class=\"right\" data-stat=\"CS\">10</td><td class=\"right\" data-stat=\"BB\">205</td><td class=\"right\" data-stat=\"SO\">477</td><td class=\"right\" data-stat=\"batting_avg\">.234</td><td class=\"right\" data-stat=\"onbase_perc\">.323</td><td class=\"right\" data-stat=\"slugging_perc\">.371</td><td class=\"right\" data-stat=\"onbase_plus_slugging\">.694</td><td class=\"right\" data-stat=\"onbase_plus_slugging_plus\">92</td><td class=\"right\" data-stat=\"TB\">650</td><td class=\"right\" data-stat=\"GIDP\">38</td><td class=\"right\" data-stat=\"HBP\">33</td><td class=\"right\" data-stat=\"SH\">4</td><td class=\"right\" data-stat=\"SF\">16</td><td class=\"right\" data-stat=\"IBB\">3</td><td class=\"right\" data-stat=\"LOB\">358</td></tr>\n",
      "<tr><th class=\"left\" data-stat=\"team_name\" scope=\"row\"><a href=\"/teams/TBR/2020.shtml\">Tampa Bay Rays</a></th><td class=\"right\" data-stat=\"batters_used\">43</td><td class=\"right\" data-stat=\"age_bat\">27.1</td><td class=\"right\" data-stat=\"runs_per_game\">4.82</td><td class=\"right\" data-stat=\"G\">60</td><td class=\"right\" data-stat=\"PA\">2261</td><td class=\"right\" data-stat=\"AB\">1975</td><td class=\"right\" data-stat=\"R\">289</td><td class=\"right\" data-stat=\"H\">470</td><td class=\"right\" data-stat=\"2B\">105</td><td class=\"right\" data-stat=\"3B\">12</td><td class=\"right\" data-stat=\"HR\">80</td><td class=\"right\" data-stat=\"RBI\">274</td><td class=\"right\" data-stat=\"SB\">48</td><td class=\"right\" data-stat=\"CS\">9</td><td class=\"right\" data-stat=\"BB\">243</td><td class=\"right\" data-stat=\"SO\">608</td><td class=\"right\" data-stat=\"batting_avg\">.238</td><td class=\"right\" data-stat=\"onbase_perc\">.328</td><td class=\"right\" data-stat=\"slugging_perc\">.425</td><td class=\"right\" data-stat=\"onbase_plus_slugging\">.753</td><td class=\"right\" data-stat=\"onbase_plus_slugging_plus\">111</td><td class=\"right\" data-stat=\"TB\">839</td><td class=\"right\" data-stat=\"GIDP\">38</td><td class=\"right\" data-stat=\"HBP\">28</td><td class=\"right iz\" data-stat=\"SH\">0</td><td class=\"right\" data-stat=\"SF\">14</td><td class=\"right\" data-stat=\"IBB\">9</td><td class=\"right\" data-stat=\"LOB\">416</td></tr>\n",
      "<tr><th class=\"left\" data-stat=\"team_name\" scope=\"row\"><a href=\"/teams/TEX/2020.shtml\">Texas Rangers</a></th><td class=\"right\" data-stat=\"batters_used\">49</td><td class=\"right\" data-stat=\"age_bat\">27.4</td><td class=\"right\" data-stat=\"runs_per_game\">3.73</td><td class=\"right\" data-stat=\"G\">60</td><td class=\"right\" data-stat=\"PA\">2147</td><td class=\"right\" data-stat=\"AB\">1936</td><td class=\"right\" data-stat=\"R\">224</td><td class=\"right\" data-stat=\"H\">420</td><td class=\"right\" data-stat=\"2B\">80</td><td class=\"right\" data-stat=\"3B\">9</td><td class=\"right\" data-stat=\"HR\">62</td><td class=\"right\" data-stat=\"RBI\">204</td><td class=\"right\" data-stat=\"SB\">49</td><td class=\"right\" data-stat=\"CS\">14</td><td class=\"right\" data-stat=\"BB\">167</td><td class=\"right\" data-stat=\"SO\">548</td><td class=\"right\" data-stat=\"batting_avg\">.217</td><td class=\"right\" data-stat=\"onbase_perc\">.285</td><td class=\"right\" data-stat=\"slugging_perc\">.364</td><td class=\"right\" data-stat=\"onbase_plus_slugging\">.648</td><td class=\"right\" data-stat=\"onbase_plus_slugging_plus\">78</td><td class=\"right\" data-stat=\"TB\">704</td><td class=\"right\" data-stat=\"GIDP\">33</td><td class=\"right\" data-stat=\"HBP\">24</td><td class=\"right\" data-stat=\"SH\">2</td><td class=\"right\" data-stat=\"SF\">18</td><td class=\"right\" data-stat=\"IBB\">3</td><td class=\"right\" data-stat=\"LOB\">350</td></tr>\n",
      "<tr><th class=\"left\" data-stat=\"team_name\" scope=\"row\"><a href=\"/teams/TOR/2020.shtml\">Toronto Blue Jays</a></th><td class=\"right\" data-stat=\"batters_used\">49</td><td class=\"right\" data-stat=\"age_bat\">25.9</td><td class=\"right\" data-stat=\"runs_per_game\">5.03</td><td class=\"right\" data-stat=\"G\">60</td><td class=\"right\" data-stat=\"PA\">2263</td><td class=\"right\" data-stat=\"AB\">2023</td><td class=\"right\" data-stat=\"R\">302</td><td class=\"right\" data-stat=\"H\">516</td><td class=\"right\" data-stat=\"2B\">104</td><td class=\"right\" data-stat=\"3B\">4</td><td class=\"right\" data-stat=\"HR\">88</td><td class=\"right\" data-stat=\"RBI\">288</td><td class=\"right\" data-stat=\"SB\">33</td><td class=\"right\" data-stat=\"CS\">6</td><td class=\"right\" data-stat=\"BB\">203</td><td class=\"right\" data-stat=\"SO\">508</td><td class=\"right\" data-stat=\"batting_avg\">.255</td><td class=\"right\" data-stat=\"onbase_perc\">.325</td><td class=\"right\" data-stat=\"slugging_perc\">.441</td><td class=\"right\" data-stat=\"onbase_plus_slugging\">.766</td><td class=\"right\" data-stat=\"onbase_plus_slugging_plus\">108</td><td class=\"right\" data-stat=\"TB\">892</td><td class=\"right\" data-stat=\"GIDP\">39</td><td class=\"right\" data-stat=\"HBP\">12</td><td class=\"right\" data-stat=\"SH\">8</td><td class=\"right\" data-stat=\"SF\">14</td><td class=\"right\" data-stat=\"IBB\">4</td><td class=\"right\" data-stat=\"LOB\">392</td></tr>\n",
      "<tr><th class=\"left\" data-stat=\"team_name\" scope=\"row\"><a href=\"/teams/WSN/2020.shtml\">Washington Nationals</a></th><td class=\"right\" data-stat=\"batters_used\">43</td><td class=\"right\" data-stat=\"age_bat\">28.6</td><td class=\"right\" data-stat=\"runs_per_game\">4.88</td><td class=\"right\" data-stat=\"G\">60</td><td class=\"right\" data-stat=\"PA\">2218</td><td class=\"right\" data-stat=\"AB\">1968</td><td class=\"right\" data-stat=\"R\">293</td><td class=\"right\" data-stat=\"H\">519</td><td class=\"right\" data-stat=\"2B\">112</td><td class=\"right\" data-stat=\"3B\">12</td><td class=\"right\" data-stat=\"HR\">66</td><td class=\"right\" data-stat=\"RBI\">279</td><td class=\"right\" data-stat=\"SB\">33</td><td class=\"right\" data-stat=\"CS\">12</td><td class=\"right\" data-stat=\"BB\">192</td><td class=\"right\" data-stat=\"SO\">451</td><td class=\"right\" data-stat=\"batting_avg\">.264</td><td class=\"right\" data-stat=\"onbase_perc\">.336</td><td class=\"right\" data-stat=\"slugging_perc\">.433</td><td class=\"right\" data-stat=\"onbase_plus_slugging\">.769</td><td class=\"right\" data-stat=\"onbase_plus_slugging_plus\">107</td><td class=\"right\" data-stat=\"TB\">853</td><td class=\"right\" data-stat=\"GIDP\">42</td><td class=\"right\" data-stat=\"HBP\">32</td><td class=\"right\" data-stat=\"SH\">5</td><td class=\"right\" data-stat=\"SF\">21</td><td class=\"right\" data-stat=\"IBB\">16</td><td class=\"right\" data-stat=\"LOB\">404</td></tr>\n",
      "<tr class=\"league_average_table\"><th class=\"left\" csk=\"ZZZZZZ\" data-stat=\"team_name\" scope=\"row\"><em>League Average</em></th><td class=\"right\" data-stat=\"batters_used\"><em>43</em></td><td class=\"right\" data-stat=\"age_bat\"><em>28.0</em></td><td class=\"right\" data-stat=\"runs_per_game\"><em>4.65</em></td><td class=\"right\" data-stat=\"G\"><em>60</em></td><td class=\"right\" data-stat=\"PA\"><em>2217</em></td><td class=\"right\" data-stat=\"AB\"><em>1968</em></td><td class=\"right\" data-stat=\"R\"><em>278</em></td><td class=\"right\" data-stat=\"H\"><em>481</em></td><td class=\"right\" data-stat=\"2B\"><em>94</em></td><td class=\"right\" data-stat=\"3B\"><em>8</em></td><td class=\"right\" data-stat=\"HR\"><em>77</em></td><td class=\"right\" data-stat=\"RBI\"><em>266</em></td><td class=\"right\" data-stat=\"SB\"><em>30</em></td><td class=\"right\" data-stat=\"CS\"><em>10</em></td><td class=\"right\" data-stat=\"BB\"><em>203</em></td><td class=\"right\" data-stat=\"SO\"><em>520</em></td><td class=\"right\" data-stat=\"batting_avg\"><em>.245</em></td><td class=\"right\" data-stat=\"onbase_perc\"><em>.322</em></td><td class=\"right\" data-stat=\"slugging_perc\"><em>.418</em></td><td class=\"right\" data-stat=\"onbase_plus_slugging\"><em>.740</em></td><td class=\"right\" data-stat=\"onbase_plus_slugging_plus\"><em>100</em></td><td class=\"right\" data-stat=\"TB\"><em>822</em></td><td class=\"right\" data-stat=\"GIDP\"><em>41</em></td><td class=\"right\" data-stat=\"HBP\"><em>27</em></td><td class=\"right\" data-stat=\"SH\"><em>4</em></td><td class=\"right\" data-stat=\"SF\"><em>13</em></td><td class=\"right\" data-stat=\"IBB\"><em>7</em></td><td class=\"right\" data-stat=\"LOB\"><em>392</em></td></tr>\n",
      "</tbody><tfoot><tr><th class=\"left iz\" data-stat=\"team_name\" scope=\"row\"></th><td class=\"right\" data-stat=\"batters_used\">1289</td><td class=\"right\" data-stat=\"age_bat\">28.0</td><td class=\"right\" data-stat=\"runs_per_game\">4.65</td><td class=\"right\" data-stat=\"G\">1796</td><td class=\"right\" data-stat=\"PA\">66506</td><td class=\"right\" data-stat=\"AB\">59030</td><td class=\"right\" data-stat=\"R\">8344</td><td class=\"right\" data-stat=\"H\">14439</td><td class=\"right\" data-stat=\"2B\">2823</td><td class=\"right\" data-stat=\"3B\">241</td><td class=\"right\" data-stat=\"HR\">2304</td><td class=\"right\" data-stat=\"RBI\">7978</td><td class=\"right\" data-stat=\"SB\">885</td><td class=\"right\" data-stat=\"CS\">292</td><td class=\"right\" data-stat=\"BB\">6092</td><td class=\"right\" data-stat=\"SO\">15586</td><td class=\"right\" data-stat=\"batting_avg\">.245</td><td class=\"right\" data-stat=\"onbase_perc\">.322</td><td class=\"right\" data-stat=\"slugging_perc\">.418</td><td class=\"right\" data-stat=\"onbase_plus_slugging\">.740</td><td class=\"right\" data-stat=\"onbase_plus_slugging_plus\">100</td><td class=\"right\" data-stat=\"TB\">24656</td><td class=\"right\" data-stat=\"GIDP\">1237</td><td class=\"right\" data-stat=\"HBP\">821</td><td class=\"right\" data-stat=\"SH\">126</td><td class=\"right\" data-stat=\"SF\">402</td><td class=\"right\" data-stat=\"IBB\">202</td><td class=\"right\" data-stat=\"LOB\">11756</td></tr>\n",
      "</tfoot>\n",
      "<tr class=\"thead\">\n",
      "<th aria-label=\"Tm\" class=\"sort_default_asc left\" data-stat=\"team_name\">Tm</th>\n",
      "<th aria-label=\"#Bat\" class=\"center\" data-stat=\"batters_used\" data-tip=\"&lt;strong&gt;Number of Players used in Games&lt;/strong&gt;\">#Bat</th>\n",
      "<th aria-label=\"BatAge\" class=\"sort_default_asc center\" data-stat=\"age_bat\" data-tip=\"&lt;strong&gt;Batters&amp;#x2019; average age&lt;/strong&gt;&lt;br&gt;Weighted by AB + Games Played\">BatAge</th>\n",
      "<th aria-label=\"Runs Scored/Game\" class=\"center\" data-stat=\"runs_per_game\" data-tip=\"Runs Scored Per Game\">R/G</th>\n",
      "<th aria-label=\"Games Played\" class=\"center\" data-stat=\"G\" data-tip=\"Games Played or Pitched\">G</th>\n",
      "<th aria-label=\"Plate Appearances\" class=\"center\" data-stat=\"PA\" data-tip=\"&lt;strong&gt;Plate Appearances&lt;/strong&gt;&lt;br&gt;When available, we use actual plate appearances from play-by-play game accounts&lt;br&gt;Otherwise estimated using AB + BB + HBP + SF + SH,&lt;br&gt;which excludes catcher interferences.&lt;br&gt;When &lt;span class=tooltip&gt;this color&lt;/span&gt; click for a summary of each PA.\">PA</th>\n",
      "<th aria-label=\"At Bats\" class=\"center\" data-stat=\"AB\" data-tip=\"At Bats\">AB</th>\n",
      "<th aria-label=\"Runs Scored\" class=\"center\" data-stat=\"R\" data-tip=\"Runs Scored/Allowed\">R</th>\n",
      "<th aria-label=\"Hits\" class=\"center\" data-stat=\"H\" data-tip=\"Hits/Hits Allowed\">H</th>\n",
      "<th aria-label=\"Doubles\" class=\"center\" data-stat=\"2B\" data-tip=\"Doubles Hit/Allowed\">2B</th>\n",
      "<th aria-label=\"Triples\" class=\"center\" data-stat=\"3B\" data-tip=\"Triples Hit/Allowed\">3B</th>\n",
      "<th aria-label=\"Home Runs\" class=\"center\" data-stat=\"HR\" data-tip=\"Home Runs Hit/Allowed\">HR</th>\n",
      "<th aria-label=\"Runs Batted In\" class=\"center\" data-stat=\"RBI\" data-tip=\"Runs Batted In\">RBI</th>\n",
      "<th aria-label=\"Stolen Bases\" class=\"center\" data-stat=\"SB\" data-tip=\"Stolen Bases\">SB</th>\n",
      "<th aria-label=\"Caught Stealing\" class=\"center\" data-stat=\"CS\" data-tip=\"Caught Stealing\">CS</th>\n",
      "<th aria-label=\"Bases on Balls\" class=\"center\" data-stat=\"BB\" data-tip=\"Bases on Balls/Walks\">BB</th>\n",
      "<th aria-label=\"Strikeouts\" class=\"center\" data-stat=\"SO\" data-tip=\"Strikeouts\">SO</th>\n",
      "<th aria-label=\"Batting Average\" class=\"hide_non_quals center\" data-filter=\"1\" data-name=\"Batting Average\" data-stat=\"batting_avg\" data-tip='&lt;strong&gt;Hits/At Bats&lt;/strong&gt;&lt;br&gt;For recent years, leaders need 3.1 PA&lt;br&gt;per team game played&lt;br&gt;Bold indicates highest BA using current stats&lt;br&gt;&lt;span class=\"all_time_record\"&gt;Gold&lt;/span&gt; means awarded title at end of year.'>BA</th>\n",
      "<th aria-label=\"On-Base%\" class=\"hide_non_quals center\" data-filter=\"1\" data-name=\"On-Base%\" data-stat=\"onbase_perc\" data-tip=\"&lt;strong&gt;(H + BB + HBP)/(At Bats + BB + HBP + SF)&lt;/strong&gt;&lt;br&gt;For recent years, leaders need 3.1 PA&lt;br&gt;per team game played\">OBP</th>\n",
      "<th aria-label=\"Slugging %\" class=\"hide_non_quals center\" data-filter=\"1\" data-name=\"Slugging %\" data-stat=\"slugging_perc\" data-tip=\"&lt;strong&gt;Total Bases/At Bats or &lt;br&gt;(1B + 2*2B + 3*3B + 4*HR)/AB&lt;/strong&gt;&lt;br&gt;For recent years, leaders need 3.1 PA&lt;br&gt;per team game played\">SLG</th>\n",
      "<th aria-label=\"On-Base Plus Slugging\" class=\"hide_non_quals center\" data-filter=\"1\" data-name=\"On-Base Plus Slugging\" data-stat=\"onbase_plus_slugging\" data-tip=\"&lt;strong&gt;On-Base + Slugging Percentages &lt;/strong&gt;&lt;br&gt;For recent years, leaders need 3.1 PA&lt;br&gt;per team game played\">OPS</th>\n",
      "<th aria-label=\"Adjusted OPS+\" class=\"hide_non_quals center\" data-stat=\"onbase_plus_slugging_plus\" data-tip=\"&lt;strong&gt;OPS+&lt;/strong&gt;&lt;br&gt;100*[OBP/lg OBP + SLG/lg SLG - 1]&lt;br&gt;Adjusted to the player&amp;#x2019;s ballpark(s)\">OPS+</th>\n",
      "<th aria-label=\"Total Bases\" class=\"center\" data-stat=\"TB\" data-tip=\"&lt;strong&gt;Total Bases&lt;/strong&gt;&lt;br&gt;Singles + 2 x Doubles + 3 x Triples + 4 x Home Runs.\">TB</th>\n",
      "<th aria-label=\"Double Plays Grounded Into\" class=\"center\" data-stat=\"GIDP\" data-tip=\"&lt;strong&gt;Double Plays Grounded Into&lt;/strong&gt;&lt;br&gt;Only includes standard 6-4-3, 4-3, etc. double plays.&lt;br&gt;First tracked in 1933.&lt;br&gt;For gamelogs only in seasons we have play-by-play, we include triple plays as well.&lt;br&gt;All official seasonal totals do not include GITP's.\">GDP</th>\n",
      "<th aria-label=\"Hit By Pitch\" class=\"center\" data-stat=\"HBP\" data-tip=\"Times Hit by a Pitch.\">HBP</th>\n",
      "<th aria-label=\"Sacrifice Hits\" class=\"center\" data-stat=\"SH\" data-tip=\"Sacrifice Hits (Sacrifice Bunts)\">SH</th>\n",
      "<th aria-label=\"Sacrifice Flies\" class=\"center\" data-stat=\"SF\" data-tip=\"&lt;strong&gt;Sacrifice Flies&lt;/strong&gt;&lt;br&gt;First tracked in 1954.\">SF</th>\n",
      "<th aria-label=\"Intentional Bases on Balls\" class=\"center\" data-stat=\"IBB\" data-tip=\"&lt;strong&gt;Intentional Bases on Balls&lt;/strong&gt;&lt;br&gt;First tracked in 1955.\">IBB</th>\n",
      "<th aria-label=\"Runners Left on Base\" class=\"center\" data-stat=\"LOB\" data-tip=\"Runners Left On Base\">LOB</th>\n",
      "</tr>\n",
      "</table>]\n"
     ]
    }
   ],
   "source": [
    "print(table)"
   ]
  },
  {
   "cell_type": "code",
   "execution_count": 45,
   "id": "90849f97-c304-42e6-b765-a09d898fb09e",
   "metadata": {},
   "outputs": [
    {
     "ename": "AttributeError",
     "evalue": "ResultSet object has no attribute 'findAll'. You're probably treating a list of elements like a single element. Did you call find_all() when you meant to call find()?",
     "output_type": "error",
     "traceback": [
      "\u001b[0;31m---------------------------------------------------------------------------\u001b[0m",
      "\u001b[0;31mAttributeError\u001b[0m                            Traceback (most recent call last)",
      "Input \u001b[0;32mIn [45]\u001b[0m, in \u001b[0;36m<cell line: 1>\u001b[0;34m()\u001b[0m\n\u001b[0;32m----> 1\u001b[0m rows \u001b[38;5;241m=\u001b[39m \u001b[43mtable\u001b[49m\u001b[38;5;241;43m.\u001b[39;49m\u001b[43mfindAll\u001b[49m(\u001b[38;5;124m\"\u001b[39m\u001b[38;5;124mtr\u001b[39m\u001b[38;5;124m\"\u001b[39m)\n\u001b[1;32m      3\u001b[0m     \u001b[38;5;66;03m#get column headers\u001b[39;00m\n\u001b[1;32m      4\u001b[0m cols \u001b[38;5;241m=\u001b[39m [i\u001b[38;5;241m.\u001b[39mgetText() \u001b[38;5;28;01mfor\u001b[39;00m i \u001b[38;5;129;01min\u001b[39;00m rows[pos[position][\u001b[38;5;241m1\u001b[39m]]\u001b[38;5;241m.\u001b[39mfindAll(\u001b[38;5;124m'\u001b[39m\u001b[38;5;124mth\u001b[39m\u001b[38;5;124m'\u001b[39m)]\n",
      "File \u001b[0;32m~/.local/share/virtualenvs/blog-Qy7nVe7x/lib/python3.8/site-packages/bs4/element.py:2253\u001b[0m, in \u001b[0;36mResultSet.__getattr__\u001b[0;34m(self, key)\u001b[0m\n\u001b[1;32m   2251\u001b[0m \u001b[38;5;28;01mdef\u001b[39;00m \u001b[38;5;21m__getattr__\u001b[39m(\u001b[38;5;28mself\u001b[39m, key):\n\u001b[1;32m   2252\u001b[0m     \u001b[38;5;124;03m\"\"\"Raise a helpful exception to explain a common code fix.\"\"\"\u001b[39;00m\n\u001b[0;32m-> 2253\u001b[0m     \u001b[38;5;28;01mraise\u001b[39;00m \u001b[38;5;167;01mAttributeError\u001b[39;00m(\n\u001b[1;32m   2254\u001b[0m         \u001b[38;5;124m\"\u001b[39m\u001b[38;5;124mResultSet object has no attribute \u001b[39m\u001b[38;5;124m'\u001b[39m\u001b[38;5;132;01m%s\u001b[39;00m\u001b[38;5;124m'\u001b[39m\u001b[38;5;124m. You\u001b[39m\u001b[38;5;124m'\u001b[39m\u001b[38;5;124mre probably treating a list of elements like a single element. Did you call find_all() when you meant to call find()?\u001b[39m\u001b[38;5;124m\"\u001b[39m \u001b[38;5;241m%\u001b[39m key\n\u001b[1;32m   2255\u001b[0m     )\n",
      "\u001b[0;31mAttributeError\u001b[0m: ResultSet object has no attribute 'findAll'. You're probably treating a list of elements like a single element. Did you call find_all() when you meant to call find()?"
     ]
    }
   ],
   "source": [
    "rows = table.findAll(\"tr\")\n",
    "    \n",
    "    #get column headers\n",
    "cols = [i.getText() for i in rows[pos[position][1]].findAll('th')]\n",
    "    \n",
    "    #get table of stats\n",
    "stats = []\n",
    "stat_rows = rows[pos[position][2]:]\n",
    "for row in range(len(stat_rows)):\n",
    "    stats.append([i.getText() for i in stat_rows[row].findAll('td')])"
   ]
  },
  {
   "cell_type": "code",
   "execution_count": 39,
   "id": "afc0c633-3486-40e7-af91-7c7a45463bf3",
   "metadata": {},
   "outputs": [
    {
     "ename": "NameError",
     "evalue": "name 'year' is not defined",
     "output_type": "error",
     "traceback": [
      "\u001b[0;31m---------------------------------------------------------------------------\u001b[0m",
      "\u001b[0;31mNameError\u001b[0m                                 Traceback (most recent call last)",
      "Input \u001b[0;32mIn [39]\u001b[0m, in \u001b[0;36m<cell line: 6>\u001b[0;34m()\u001b[0m\n\u001b[1;32m      3\u001b[0m     \u001b[38;5;66;03m#get html\u001b[39;00m\n\u001b[1;32m      4\u001b[0m base_url \u001b[38;5;241m=\u001b[39m \u001b[38;5;124m\"\u001b[39m\u001b[38;5;124mhttps://www.baseball-reference.com/leagues/majors/\u001b[39m\u001b[38;5;124m\"\u001b[39m\n\u001b[0;32m----> 6\u001b[0m html \u001b[38;5;241m=\u001b[39m requests\u001b[38;5;241m.\u001b[39mget(base_url \u001b[38;5;241m+\u001b[39m \u001b[43myear\u001b[49m \u001b[38;5;241m+\u001b[39m pos[position][\u001b[38;5;241m0\u001b[39m])\u001b[38;5;241m.\u001b[39mtext\n\u001b[1;32m      7\u001b[0m page \u001b[38;5;241m=\u001b[39m soup(html)\n\u001b[1;32m      8\u001b[0m table \u001b[38;5;241m=\u001b[39m page\u001b[38;5;241m.\u001b[39mfind(\u001b[38;5;124m\"\u001b[39m\u001b[38;5;124mtable\u001b[39m\u001b[38;5;124m\"\u001b[39m, \u001b[38;5;28mid\u001b[39m\u001b[38;5;241m=\u001b[39m\u001b[38;5;124m\"\u001b[39m\u001b[38;5;124mplayers_standard_batting\u001b[39m\u001b[38;5;124m\"\u001b[39m)\n",
      "\u001b[0;31mNameError\u001b[0m: name 'year' is not defined"
     ]
    }
   ],
   "source": []
  },
  {
   "cell_type": "code",
   "execution_count": null,
   "id": "4dd008d6-5bf9-4e1f-933d-cf5230ffa378",
   "metadata": {},
   "outputs": [],
   "source": []
  }
 ],
 "metadata": {
  "kernelspec": {
   "display_name": "blog",
   "language": "python",
   "name": "blog"
  },
  "language_info": {
   "codemirror_mode": {
    "name": "ipython",
    "version": 3
   },
   "file_extension": ".py",
   "mimetype": "text/x-python",
   "name": "python",
   "nbconvert_exporter": "python",
   "pygments_lexer": "ipython3",
   "version": "3.8.10"
  }
 },
 "nbformat": 4,
 "nbformat_minor": 5
}
