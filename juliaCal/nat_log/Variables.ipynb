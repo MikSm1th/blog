{
 "cells": [
  {
   "cell_type": "markdown",
   "id": "89e832b2-f741-47a0-aa5d-b50c0d0ff1e1",
   "metadata": {},
   "source": [
    "# A word about variables in Julia\n",
    "\n",
    "\n",
    "Variables in Julia act very much like variables in other programming languages."
   ]
  },
  {
   "cell_type": "code",
   "execution_count": 11,
   "id": "68b4a108-a67f-4b38-ba0e-956061ee4482",
   "metadata": {},
   "outputs": [
    {
     "data": {
      "text/plain": [
       "3"
      ]
     },
     "execution_count": 11,
     "metadata": {},
     "output_type": "execute_result"
    }
   ],
   "source": [
    "write(\"./code/ab.jl\", In[IJulia.n])\n",
    "a = 1\n",
    "b = 2\n",
    "a + b"
   ]
  },
  {
   "cell_type": "markdown",
   "id": "584d476b-67ff-4415-9a91-f0e0fe8f119b",
   "metadata": {},
   "source": [
    "Be advised that product syntax is used when concatenating string in Julia.<br>\n",
    "Use double quotes when declaring strings in Julia."
   ]
  },
  {
   "cell_type": "code",
   "execution_count": 13,
   "id": "de4b0482-6d52-4c37-9aed-939cec5be386",
   "metadata": {},
   "outputs": [
    {
     "data": {
      "text/plain": [
       "\"hello world\""
      ]
     },
     "execution_count": 13,
     "metadata": {},
     "output_type": "execute_result"
    }
   ],
   "source": [
    "write(\"./code/hello.jl\", In[IJulia.n])\n",
    "h = \"hello \"\n",
    "w = \"world\"\n",
    "h * w"
   ]
  },
  {
   "cell_type": "code",
   "execution_count": 14,
   "id": "483beda3-816a-4773-bd09-86cc0ef19ba2",
   "metadata": {},
   "outputs": [
    {
     "data": {
      "text/plain": [
       "\"three times three times three times \""
      ]
     },
     "execution_count": 14,
     "metadata": {},
     "output_type": "execute_result"
    }
   ],
   "source": [
    "write(\"./code/three.jl\", In[IJulia.n])\n",
    "t = \"three times \"\n",
    "t^3"
   ]
  },
  {
   "cell_type": "markdown",
   "id": "8965ac1c-7739-4e31-a730-73d99b7d00bf",
   "metadata": {},
   "source": [
    "Julia has the capacity to express Unicode math if the coding environment allows.<br>\n",
    "Start with a Latex \\ then type your variable in Latex, enter then tab.\n",
    "For pi we can type `\\pi` **tab** which outputs $\\pi$."
   ]
  },
  {
   "cell_type": "code",
   "execution_count": 15,
   "id": "3920b65b-32c6-48e7-be22-1bfcd84ce021",
   "metadata": {},
   "outputs": [
    {
     "data": {
      "text/plain": [
       "π = 3.1415926535897..."
      ]
     },
     "execution_count": 15,
     "metadata": {},
     "output_type": "execute_result"
    }
   ],
   "source": [
    "write(\"./code/pi.jl\", In[IJulia.n])\n",
    "π"
   ]
  },
  {
   "cell_type": "markdown",
   "id": "52f75b80-dd50-49c9-bba6-0a6ee45da29a",
   "metadata": {},
   "source": [
    "For Euler's constant we can type `\\euler` which outputs $e$."
   ]
  },
  {
   "cell_type": "code",
   "execution_count": 1,
   "id": "ee540280-8d8d-4454-8e24-62f4786d1512",
   "metadata": {},
   "outputs": [
    {
     "data": {
      "text/plain": [
       "ℯ = 2.7182818284590..."
      ]
     },
     "execution_count": 1,
     "metadata": {},
     "output_type": "execute_result"
    }
   ],
   "source": [
    "write(\"./code/euler.jl\", In[IJulia.n])\n",
    "ℯ"
   ]
  }
 ],
 "metadata": {
  "kernelspec": {
   "display_name": "Julia 1.6.3",
   "language": "julia",
   "name": "julia-1.6"
  },
  "language_info": {
   "file_extension": ".jl",
   "mimetype": "application/julia",
   "name": "julia",
   "version": "1.6.3"
  }
 },
 "nbformat": 4,
 "nbformat_minor": 5
}
