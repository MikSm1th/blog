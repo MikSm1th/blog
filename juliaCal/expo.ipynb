{
 "cells": [
  {
   "cell_type": "markdown",
   "id": "2b9aa1cb-f0d9-4675-a0b2-2eae3f16f71d",
   "metadata": {},
   "source": [
    "### Exponential functions in Julia \n",
    "\n",
    "Welcome to my self-tutorial on exponential functions in Julia.\n",
    "\n",
    "For those new to the Julia here are some resources:\n",
    "1. [Julia language](https:julialang.org)\n",
    "2. [Installing Julia](https://julialang.org/downloads/)\n",
    "3. [Julia's package manager](https://docs.julialang.org/en/v1/stdlib/Pkg/)\n",
    "4. [Calculus with Julia](https://docs.juliahub.com/CalculusWithJulia/AZHbv/0.0.16/)\n",
    "\n",
    "This article was written using [jupyter](https://jupyter.org/)."
   ]
  },
  {
   "cell_type": "code",
   "execution_count": 1,
   "id": "7a786efc-1baa-4c74-b1c2-9daa2c423e60",
   "metadata": {},
   "outputs": [],
   "source": [
    "using CalculusWithJulia, Plots"
   ]
  },
  {
   "cell_type": "markdown",
   "id": "fa85b323-c00f-45bd-9481-7b6f129eaf3e",
   "metadata": {},
   "source": [
    "### What is a function?\n",
    "\n",
    "A function is a defined relationship between and some input and some output.<br>\n",
    "In math a functions input is called it's domain, and output is called range.<br>\n",
    "\n",
    "![d_func_r](pics/do_func_ran.png)\n",
    "\n",
    "Every value in a functions domain can only result in one unique value in it's range. <br>\n",
    "An example of a function called `plus_one` looks like this in mathematical notation.<br>\n",
    "\n",
    "![plus_one](pics/plus_one.png)\n",
    "\n",
    "The same function in Julia is defined here."
   ]
  },
  {
   "cell_type": "code",
   "execution_count": 2,
   "id": "8bb6336a-6aa0-423a-bf03-61a616cf05a2",
   "metadata": {},
   "outputs": [
    {
     "data": {
      "text/plain": [
       "plus_one (generic function with 1 method)"
      ]
     },
     "execution_count": 2,
     "metadata": {},
     "output_type": "execute_result"
    }
   ],
   "source": [
    "plus_one(x) = x + 1"
   ]
  },
  {
   "cell_type": "markdown",
   "id": "2865ffa6-ad30-4529-87f4-2edfa40909cd",
   "metadata": {},
   "source": [
    "We will define a small [array](https://docs.julialang.org/en/v1/base/arrays/) in julia."
   ]
  },
  {
   "cell_type": "code",
   "execution_count": 3,
   "id": "6efea1cf-3117-44bb-80c8-3555388cac51",
   "metadata": {},
   "outputs": [
    {
     "data": {
      "text/plain": [
       "5-element Vector{Int64}:\n",
       " 1\n",
       " 2\n",
       " 3\n",
       " 4\n",
       " 5"
      ]
     },
     "execution_count": 3,
     "metadata": {},
     "output_type": "execute_result"
    }
   ],
   "source": [
    "small_array = [1,2,3,4,5]"
   ]
  },
  {
   "cell_type": "markdown",
   "id": "deaf24e4-cd6f-4660-a73a-cab857c932d5",
   "metadata": {},
   "source": [
    "Now we [loop](https://docs.julialang.org/en/v1/manual/control-flow/#man-loops) through our array."
   ]
  },
  {
   "cell_type": "code",
   "execution_count": 6,
   "id": "4b8c46a8-d3a7-4627-9304-8f5ce3157883",
   "metadata": {},
   "outputs": [
    {
     "name": "stdout",
     "output_type": "stream",
     "text": [
      "2\n",
      "3\n",
      "4\n",
      "5\n",
      "6\n"
     ]
    }
   ],
   "source": [
    "for number in small_array\n",
    "   println(plus_one(number))\n",
    "end"
   ]
  },
  {
   "cell_type": "markdown",
   "id": "0fb39e7e-a6ce-4ee9-a05e-c0b5cce25f7d",
   "metadata": {},
   "source": [
    "Broadly speaking, generic functions in math are defined simply as $f$.<br>\n",
    "Here we have our `plus_one` function defined as $f$:<br>\n",
    "\n",
    "$$ f(x) = x + 1$$"
   ]
  },
  {
   "cell_type": "markdown",
   "id": "4773af26-cb41-47ad-9825-101aba5354ee",
   "metadata": {},
   "source": [
    "### Exponential Functions\n",
    "\n",
    "We can define exponental functions as follows:\n",
    "\n",
    "$$ exp\\_f(x) = a^x, \\text{ if } a>0 $$"
   ]
  },
  {
   "cell_type": "markdown",
   "id": "e7b8f98e-1ede-4bf1-aa0e-789c18caad96",
   "metadata": {},
   "source": [
    "Let's graph some exponential functions using [plots](https://docs.juliaplots.org/stable/)."
   ]
  },
  {
   "cell_type": "code",
   "execution_count": 8,
   "id": "0e79e992-c0dc-4b9d-a22a-4cedcf123c3d",
   "metadata": {},
   "outputs": [
    {
     "data": {
      "image/svg+xml": [
       "<?xml version=\"1.0\" encoding=\"utf-8\"?>\n",
       "<svg xmlns=\"http://www.w3.org/2000/svg\" xmlns:xlink=\"http://www.w3.org/1999/xlink\" width=\"600\" height=\"400\" viewBox=\"0 0 2400 1600\">\n",
       "<defs>\n",
       "  <clipPath id=\"clip4500\">\n",
       "    <rect x=\"0\" y=\"0\" width=\"2400\" height=\"1600\"/>\n",
       "  </clipPath>\n",
       "</defs>\n",
       "<path clip-path=\"url(#clip4500)\" d=\"\n",
       "M0 1600 L2400 1600 L2400 0 L0 0  Z\n",
       "  \" fill=\"#ffffff\" fill-rule=\"evenodd\" fill-opacity=\"1\"/>\n",
       "<defs>\n",
       "  <clipPath id=\"clip4501\">\n",
       "    <rect x=\"480\" y=\"0\" width=\"1681\" height=\"1600\"/>\n",
       "  </clipPath>\n",
       "</defs>\n",
       "<path clip-path=\"url(#clip4500)\" d=\"\n",
       "M136.76 1486.45 L2352.76 1486.45 L2352.76 47.2441 L136.76 47.2441  Z\n",
       "  \" fill=\"#ffffff\" fill-rule=\"evenodd\" fill-opacity=\"1\"/>\n",
       "<defs>\n",
       "  <clipPath id=\"clip4502\">\n",
       "    <rect x=\"136\" y=\"47\" width=\"2217\" height=\"1440\"/>\n",
       "  </clipPath>\n",
       "</defs>\n",
       "<polyline clip-path=\"url(#clip4502)\" style=\"stroke:#000000; stroke-width:2; stroke-opacity:0.1; fill:none\" points=\"\n",
       "  408.533,1486.45 408.533,47.2441 \n",
       "  \"/>\n",
       "<polyline clip-path=\"url(#clip4502)\" style=\"stroke:#000000; stroke-width:2; stroke-opacity:0.1; fill:none\" points=\"\n",
       "  826.646,1486.45 826.646,47.2441 \n",
       "  \"/>\n",
       "<polyline clip-path=\"url(#clip4502)\" style=\"stroke:#000000; stroke-width:2; stroke-opacity:0.1; fill:none\" points=\"\n",
       "  1244.76,1486.45 1244.76,47.2441 \n",
       "  \"/>\n",
       "<polyline clip-path=\"url(#clip4502)\" style=\"stroke:#000000; stroke-width:2; stroke-opacity:0.1; fill:none\" points=\"\n",
       "  1662.87,1486.45 1662.87,47.2441 \n",
       "  \"/>\n",
       "<polyline clip-path=\"url(#clip4502)\" style=\"stroke:#000000; stroke-width:2; stroke-opacity:0.1; fill:none\" points=\"\n",
       "  2080.98,1486.45 2080.98,47.2441 \n",
       "  \"/>\n",
       "<polyline clip-path=\"url(#clip4502)\" style=\"stroke:#000000; stroke-width:2; stroke-opacity:0.1; fill:none\" points=\"\n",
       "  136.76,1447.04 2352.76,1447.04 \n",
       "  \"/>\n",
       "<polyline clip-path=\"url(#clip4502)\" style=\"stroke:#000000; stroke-width:2; stroke-opacity:0.1; fill:none\" points=\"\n",
       "  136.76,1022.33 2352.76,1022.33 \n",
       "  \"/>\n",
       "<polyline clip-path=\"url(#clip4502)\" style=\"stroke:#000000; stroke-width:2; stroke-opacity:0.1; fill:none\" points=\"\n",
       "  136.76,597.626 2352.76,597.626 \n",
       "  \"/>\n",
       "<polyline clip-path=\"url(#clip4502)\" style=\"stroke:#000000; stroke-width:2; stroke-opacity:0.1; fill:none\" points=\"\n",
       "  136.76,172.918 2352.76,172.918 \n",
       "  \"/>\n",
       "<polyline clip-path=\"url(#clip4500)\" style=\"stroke:#000000; stroke-width:4; stroke-opacity:1; fill:none\" points=\"\n",
       "  136.76,1486.45 2352.76,1486.45 \n",
       "  \"/>\n",
       "<polyline clip-path=\"url(#clip4500)\" style=\"stroke:#000000; stroke-width:4; stroke-opacity:1; fill:none\" points=\"\n",
       "  136.76,1486.45 136.76,47.2441 \n",
       "  \"/>\n",
       "<polyline clip-path=\"url(#clip4500)\" style=\"stroke:#000000; stroke-width:4; stroke-opacity:1; fill:none\" points=\"\n",
       "  408.533,1486.45 408.533,1469.18 \n",
       "  \"/>\n",
       "<polyline clip-path=\"url(#clip4500)\" style=\"stroke:#000000; stroke-width:4; stroke-opacity:1; fill:none\" points=\"\n",
       "  826.646,1486.45 826.646,1469.18 \n",
       "  \"/>\n",
       "<polyline clip-path=\"url(#clip4500)\" style=\"stroke:#000000; stroke-width:4; stroke-opacity:1; fill:none\" points=\"\n",
       "  1244.76,1486.45 1244.76,1469.18 \n",
       "  \"/>\n",
       "<polyline clip-path=\"url(#clip4500)\" style=\"stroke:#000000; stroke-width:4; stroke-opacity:1; fill:none\" points=\"\n",
       "  1662.87,1486.45 1662.87,1469.18 \n",
       "  \"/>\n",
       "<polyline clip-path=\"url(#clip4500)\" style=\"stroke:#000000; stroke-width:4; stroke-opacity:1; fill:none\" points=\"\n",
       "  2080.98,1486.45 2080.98,1469.18 \n",
       "  \"/>\n",
       "<polyline clip-path=\"url(#clip4500)\" style=\"stroke:#000000; stroke-width:4; stroke-opacity:1; fill:none\" points=\"\n",
       "  136.76,1447.04 163.352,1447.04 \n",
       "  \"/>\n",
       "<polyline clip-path=\"url(#clip4500)\" style=\"stroke:#000000; stroke-width:4; stroke-opacity:1; fill:none\" points=\"\n",
       "  136.76,1022.33 163.352,1022.33 \n",
       "  \"/>\n",
       "<polyline clip-path=\"url(#clip4500)\" style=\"stroke:#000000; stroke-width:4; stroke-opacity:1; fill:none\" points=\"\n",
       "  136.76,597.626 163.352,597.626 \n",
       "  \"/>\n",
       "<polyline clip-path=\"url(#clip4500)\" style=\"stroke:#000000; stroke-width:4; stroke-opacity:1; fill:none\" points=\"\n",
       "  136.76,172.918 163.352,172.918 \n",
       "  \"/>\n",
       "<path clip-path=\"url(#clip4500)\" d=\"M 0 0 M388.545 1525.04 L401.022 1525.04 L401.022 1528.83 L388.545 1528.83 L388.545 1525.04 Z\" fill=\"#000000\" fill-rule=\"evenodd\" fill-opacity=\"1\" /><path clip-path=\"url(#clip4500)\" d=\"M 0 0 M418.938 1509.43 L407.133 1527.88 L418.938 1527.88 L418.938 1509.43 M417.712 1505.36 L423.591 1505.36 L423.591 1527.88 L428.522 1527.88 L428.522 1531.77 L423.591 1531.77 L423.591 1539.92 L418.938 1539.92 L418.938 1531.77 L403.337 1531.77 L403.337 1527.26 L417.712 1505.36 Z\" fill=\"#000000\" fill-rule=\"evenodd\" fill-opacity=\"1\" /><path clip-path=\"url(#clip4500)\" d=\"M 0 0 M807.699 1525.04 L820.176 1525.04 L820.176 1528.83 L807.699 1528.83 L807.699 1525.04 Z\" fill=\"#000000\" fill-rule=\"evenodd\" fill-opacity=\"1\" /><path clip-path=\"url(#clip4500)\" d=\"M 0 0 M829.273 1535.98 L845.592 1535.98 L845.592 1539.92 L823.648 1539.92 L823.648 1535.98 Q826.31 1533.23 830.893 1528.6 Q835.5 1523.95 836.68 1522.61 Q838.926 1520.08 839.805 1518.35 Q840.708 1516.59 840.708 1514.9 Q840.708 1512.14 838.764 1510.41 Q836.842 1508.67 833.741 1508.67 Q831.542 1508.67 829.088 1509.43 Q826.657 1510.2 823.88 1511.75 L823.88 1507.03 Q826.704 1505.89 829.157 1505.31 Q831.611 1504.73 833.648 1504.73 Q839.018 1504.73 842.213 1507.42 Q845.407 1510.11 845.407 1514.6 Q845.407 1516.73 844.597 1518.65 Q843.81 1520.54 841.704 1523.14 Q841.125 1523.81 838.023 1527.03 Q834.921 1530.22 829.273 1535.98 Z\" fill=\"#000000\" fill-rule=\"evenodd\" fill-opacity=\"1\" /><path clip-path=\"url(#clip4500)\" d=\"M 0 0 M1244.76 1508.44 Q1241.15 1508.44 1239.32 1512 Q1237.51 1515.55 1237.51 1522.67 Q1237.51 1529.78 1239.32 1533.35 Q1241.15 1536.89 1244.76 1536.89 Q1248.39 1536.89 1250.2 1533.35 Q1252.03 1529.78 1252.03 1522.67 Q1252.03 1515.55 1250.2 1512 Q1248.39 1508.44 1244.76 1508.44 M1244.76 1504.73 Q1250.57 1504.73 1253.62 1509.34 Q1256.7 1513.92 1256.7 1522.67 Q1256.7 1531.4 1253.62 1536.01 Q1250.57 1540.59 1244.76 1540.59 Q1238.95 1540.59 1235.87 1536.01 Q1232.81 1531.4 1232.81 1522.67 Q1232.81 1513.92 1235.87 1509.34 Q1238.95 1504.73 1244.76 1504.73 Z\" fill=\"#000000\" fill-rule=\"evenodd\" fill-opacity=\"1\" /><path clip-path=\"url(#clip4500)\" d=\"M 0 0 M1657.52 1535.98 L1673.84 1535.98 L1673.84 1539.92 L1651.9 1539.92 L1651.9 1535.98 Q1654.56 1533.23 1659.14 1528.6 Q1663.75 1523.95 1664.93 1522.61 Q1667.18 1520.08 1668.06 1518.35 Q1668.96 1516.59 1668.96 1514.9 Q1668.96 1512.14 1667.01 1510.41 Q1665.09 1508.67 1661.99 1508.67 Q1659.79 1508.67 1657.34 1509.43 Q1654.91 1510.2 1652.13 1511.75 L1652.13 1507.03 Q1654.95 1505.89 1657.41 1505.31 Q1659.86 1504.73 1661.9 1504.73 Q1667.27 1504.73 1670.46 1507.42 Q1673.66 1510.11 1673.66 1514.6 Q1673.66 1516.73 1672.85 1518.65 Q1672.06 1520.54 1669.95 1523.14 Q1669.38 1523.81 1666.27 1527.03 Q1663.17 1530.22 1657.52 1535.98 Z\" fill=\"#000000\" fill-rule=\"evenodd\" fill-opacity=\"1\" /><path clip-path=\"url(#clip4500)\" d=\"M 0 0 M2083.99 1509.43 L2072.19 1527.88 L2083.99 1527.88 L2083.99 1509.43 M2082.77 1505.36 L2088.64 1505.36 L2088.64 1527.88 L2093.58 1527.88 L2093.58 1531.77 L2088.64 1531.77 L2088.64 1539.92 L2083.99 1539.92 L2083.99 1531.77 L2068.39 1531.77 L2068.39 1527.26 L2082.77 1505.36 Z\" fill=\"#000000\" fill-rule=\"evenodd\" fill-opacity=\"1\" /><path clip-path=\"url(#clip4500)\" d=\"M 0 0 M100.816 1432.84 Q97.2049 1432.84 95.3762 1436.41 Q93.5707 1439.95 93.5707 1447.08 Q93.5707 1454.18 95.3762 1457.75 Q97.2049 1461.29 100.816 1461.29 Q104.45 1461.29 106.256 1457.75 Q108.084 1454.18 108.084 1447.08 Q108.084 1439.95 106.256 1436.41 Q104.45 1432.84 100.816 1432.84 M100.816 1429.14 Q106.626 1429.14 109.682 1433.74 Q112.76 1438.33 112.76 1447.08 Q112.76 1455.8 109.682 1460.41 Q106.626 1464.99 100.816 1464.99 Q95.0058 1464.99 91.9272 1460.41 Q88.8716 1455.8 88.8716 1447.08 Q88.8716 1438.33 91.9272 1433.74 Q95.0058 1429.14 100.816 1429.14 Z\" fill=\"#000000\" fill-rule=\"evenodd\" fill-opacity=\"1\" /><path clip-path=\"url(#clip4500)\" d=\"M 0 0 M65.8393 1035.68 L73.4782 1035.68 L73.4782 1009.31 L65.168 1010.98 L65.168 1006.72 L73.4319 1005.05 L78.1078 1005.05 L78.1078 1035.68 L85.7466 1035.68 L85.7466 1039.61 L65.8393 1039.61 L65.8393 1035.68 Z\" fill=\"#000000\" fill-rule=\"evenodd\" fill-opacity=\"1\" /><path clip-path=\"url(#clip4500)\" d=\"M 0 0 M100.816 1008.13 Q97.2049 1008.13 95.3762 1011.7 Q93.5707 1015.24 93.5707 1022.37 Q93.5707 1029.48 95.3762 1033.04 Q97.2049 1036.58 100.816 1036.58 Q104.45 1036.58 106.256 1033.04 Q108.084 1029.48 108.084 1022.37 Q108.084 1015.24 106.256 1011.7 Q104.45 1008.13 100.816 1008.13 M100.816 1004.43 Q106.626 1004.43 109.682 1009.04 Q112.76 1013.62 112.76 1022.37 Q112.76 1031.1 109.682 1035.7 Q106.626 1040.29 100.816 1040.29 Q95.0058 1040.29 91.9272 1035.7 Q88.8716 1031.1 88.8716 1022.37 Q88.8716 1013.62 91.9272 1009.04 Q95.0058 1004.43 100.816 1004.43 Z\" fill=\"#000000\" fill-rule=\"evenodd\" fill-opacity=\"1\" /><path clip-path=\"url(#clip4500)\" d=\"M 0 0 M69.4273 610.971 L85.7466 610.971 L85.7466 614.906 L63.8023 614.906 L63.8023 610.971 Q66.4643 608.216 71.0476 603.587 Q75.6541 598.934 76.8346 597.592 Q79.08 595.068 79.9596 593.332 Q80.8624 591.573 80.8624 589.883 Q80.8624 587.129 78.918 585.393 Q76.9967 583.656 73.8948 583.656 Q71.6958 583.656 69.2421 584.42 Q66.8115 585.184 64.0338 586.735 L64.0338 582.013 Q66.8578 580.879 69.3115 580.3 Q71.7652 579.721 73.8023 579.721 Q79.1726 579.721 82.367 582.406 Q85.5614 585.092 85.5614 589.582 Q85.5614 591.712 84.7513 593.633 Q83.9642 595.531 81.8578 598.124 Q81.2791 598.795 78.1772 602.013 Q75.0754 605.207 69.4273 610.971 Z\" fill=\"#000000\" fill-rule=\"evenodd\" fill-opacity=\"1\" /><path clip-path=\"url(#clip4500)\" d=\"M 0 0 M100.816 583.425 Q97.2049 583.425 95.3762 586.99 Q93.5707 590.531 93.5707 597.661 Q93.5707 604.767 95.3762 608.332 Q97.2049 611.874 100.816 611.874 Q104.45 611.874 106.256 608.332 Q108.084 604.767 108.084 597.661 Q108.084 590.531 106.256 586.99 Q104.45 583.425 100.816 583.425 M100.816 579.721 Q106.626 579.721 109.682 584.328 Q112.76 588.911 112.76 597.661 Q112.76 606.388 109.682 610.994 Q106.626 615.578 100.816 615.578 Q95.0058 615.578 91.9272 610.994 Q88.8716 606.388 88.8716 597.661 Q88.8716 588.911 91.9272 584.328 Q95.0058 579.721 100.816 579.721 Z\" fill=\"#000000\" fill-rule=\"evenodd\" fill-opacity=\"1\" /><path clip-path=\"url(#clip4500)\" d=\"M 0 0 M78.617 171.564 Q81.9735 172.281 83.8485 174.55 Q85.7466 176.818 85.7466 180.152 Q85.7466 185.267 82.2281 188.068 Q78.7096 190.869 72.2282 190.869 Q70.0523 190.869 67.7375 190.429 Q65.4458 190.013 62.9921 189.156 L62.9921 184.642 Q64.9366 185.777 67.2514 186.355 Q69.5662 186.934 72.0893 186.934 Q76.4874 186.934 78.7791 185.198 Q81.0939 183.462 81.0939 180.152 Q81.0939 177.096 78.9411 175.383 Q76.8115 173.647 72.9921 173.647 L68.9643 173.647 L68.9643 169.805 L73.1773 169.805 Q76.6263 169.805 78.455 168.439 Q80.2837 167.05 80.2837 164.457 Q80.2837 161.795 78.3856 160.383 Q76.5106 158.948 72.9921 158.948 Q71.0708 158.948 68.8717 159.365 Q66.6727 159.781 64.0338 160.661 L64.0338 156.494 Q66.6958 155.754 69.0106 155.383 Q71.3486 155.013 73.4087 155.013 Q78.7328 155.013 81.8346 157.443 Q84.9365 159.851 84.9365 163.971 Q84.9365 166.842 83.2929 168.832 Q81.6494 170.8 78.617 171.564 Z\" fill=\"#000000\" fill-rule=\"evenodd\" fill-opacity=\"1\" /><path clip-path=\"url(#clip4500)\" d=\"M 0 0 M100.816 158.717 Q97.2049 158.717 95.3762 162.281 Q93.5707 165.823 93.5707 172.953 Q93.5707 180.059 95.3762 183.624 Q97.2049 187.166 100.816 187.166 Q104.45 187.166 106.256 183.624 Q108.084 180.059 108.084 172.953 Q108.084 165.823 106.256 162.281 Q104.45 158.717 100.816 158.717 M100.816 155.013 Q106.626 155.013 109.682 159.619 Q112.76 164.203 112.76 172.953 Q112.76 181.679 109.682 186.286 Q106.626 190.869 100.816 190.869 Q95.0058 190.869 91.9272 186.286 Q88.8716 181.679 88.8716 172.953 Q88.8716 164.203 91.9272 159.619 Q95.0058 155.013 100.816 155.013 Z\" fill=\"#000000\" fill-rule=\"evenodd\" fill-opacity=\"1\" /><polyline clip-path=\"url(#clip4502)\" style=\"stroke:#009af9; stroke-width:4; stroke-opacity:1; fill:none\" points=\"\n",
       "  199.477,87.9763 204.581,110.782 209.685,133.205 214.789,155.252 219.893,176.929 243.49,272.512 267.087,360.903 290.684,442.641 314.281,518.228 337.878,588.127 \n",
       "  361.475,652.766 385.072,712.54 408.669,767.815 437.031,828.776 465.392,884.265 493.754,934.774 522.116,980.75 570.074,1049.3 618.033,1107.78 670.13,1161.6 \n",
       "  722.226,1206.88 770.255,1242.23 818.283,1272.38 921.267,1322.91 1040.58,1363.46 1146.62,1388.24 1239.6,1403.84 1340.98,1416.17 1442.95,1425.03 1555.7,1431.9 \n",
       "  1662.98,1436.43 1774.53,1439.71 1868.42,1441.67 1983.06,1443.37 2090.83,1444.47 2263.47,1445.59 2290.04,1445.72 \n",
       "  \"/>\n",
       "<path clip-path=\"url(#clip4500)\" d=\"\n",
       "M1989.74 251.724 L2280.76 251.724 L2280.76 130.764 L1989.74 130.764  Z\n",
       "  \" fill=\"#ffffff\" fill-rule=\"evenodd\" fill-opacity=\"1\"/>\n",
       "<polyline clip-path=\"url(#clip4500)\" style=\"stroke:#000000; stroke-width:4; stroke-opacity:1; fill:none\" points=\"\n",
       "  1989.74,251.724 2280.76,251.724 2280.76,130.764 1989.74,130.764 1989.74,251.724 \n",
       "  \"/>\n",
       "<polyline clip-path=\"url(#clip4500)\" style=\"stroke:#009af9; stroke-width:4; stroke-opacity:1; fill:none\" points=\"\n",
       "  2013.74,191.244 2157.74,191.244 \n",
       "  \"/>\n",
       "<path clip-path=\"url(#clip4500)\" d=\"M 0 0 M2195.58 210.931 Q2193.77 215.561 2192.06 216.973 Q2190.35 218.385 2187.48 218.385 L2184.08 218.385 L2184.08 214.82 L2186.58 214.82 Q2188.33 214.82 2189.31 213.987 Q2190.28 213.154 2191.46 210.052 L2192.22 208.107 L2181.74 182.598 L2186.25 182.598 L2194.35 202.876 L2202.46 182.598 L2206.97 182.598 L2195.58 210.931 Z\" fill=\"#000000\" fill-rule=\"evenodd\" fill-opacity=\"1\" /><path clip-path=\"url(#clip4500)\" d=\"M 0 0 M2212.85 204.589 L2220.49 204.589 L2220.49 178.223 L2212.18 179.89 L2212.18 175.631 L2220.44 173.964 L2225.12 173.964 L2225.12 204.589 L2232.76 204.589 L2232.76 208.524 L2212.85 208.524 L2212.85 204.589 Z\" fill=\"#000000\" fill-rule=\"evenodd\" fill-opacity=\"1\" /></svg>\n"
      ]
     },
     "execution_count": 8,
     "metadata": {},
     "output_type": "execute_result"
    }
   ],
   "source": [
    "one_half(x) = 0.5^x\n",
    "plot(one_half, -5, 5)"
   ]
  },
  {
   "cell_type": "code",
   "execution_count": 11,
   "id": "e58b67d3-0abd-4e5a-8cf4-bc597ab0c0c9",
   "metadata": {},
   "outputs": [
    {
     "data": {
      "image/svg+xml": [
       "<?xml version=\"1.0\" encoding=\"utf-8\"?>\n",
       "<svg xmlns=\"http://www.w3.org/2000/svg\" xmlns:xlink=\"http://www.w3.org/1999/xlink\" width=\"600\" height=\"400\" viewBox=\"0 0 2400 1600\">\n",
       "<defs>\n",
       "  <clipPath id=\"clip5300\">\n",
       "    <rect x=\"0\" y=\"0\" width=\"2400\" height=\"1600\"/>\n",
       "  </clipPath>\n",
       "</defs>\n",
       "<path clip-path=\"url(#clip5300)\" d=\"\n",
       "M0 1600 L2400 1600 L2400 0 L0 0  Z\n",
       "  \" fill=\"#ffffff\" fill-rule=\"evenodd\" fill-opacity=\"1\"/>\n",
       "<defs>\n",
       "  <clipPath id=\"clip5301\">\n",
       "    <rect x=\"480\" y=\"0\" width=\"1681\" height=\"1600\"/>\n",
       "  </clipPath>\n",
       "</defs>\n",
       "<path clip-path=\"url(#clip5300)\" d=\"\n",
       "M145.904 1486.45 L2352.76 1486.45 L2352.76 47.2441 L145.904 47.2441  Z\n",
       "  \" fill=\"#ffffff\" fill-rule=\"evenodd\" fill-opacity=\"1\"/>\n",
       "<defs>\n",
       "  <clipPath id=\"clip5302\">\n",
       "    <rect x=\"145\" y=\"47\" width=\"2208\" height=\"1440\"/>\n",
       "  </clipPath>\n",
       "</defs>\n",
       "<polyline clip-path=\"url(#clip5302)\" style=\"stroke:#000000; stroke-width:2; stroke-opacity:0.1; fill:none\" points=\"\n",
       "  416.556,1486.45 416.556,47.2441 \n",
       "  \"/>\n",
       "<polyline clip-path=\"url(#clip5302)\" style=\"stroke:#000000; stroke-width:2; stroke-opacity:0.1; fill:none\" points=\"\n",
       "  832.943,1486.45 832.943,47.2441 \n",
       "  \"/>\n",
       "<polyline clip-path=\"url(#clip5302)\" style=\"stroke:#000000; stroke-width:2; stroke-opacity:0.1; fill:none\" points=\"\n",
       "  1249.33,1486.45 1249.33,47.2441 \n",
       "  \"/>\n",
       "<polyline clip-path=\"url(#clip5302)\" style=\"stroke:#000000; stroke-width:2; stroke-opacity:0.1; fill:none\" points=\"\n",
       "  1665.72,1486.45 1665.72,47.2441 \n",
       "  \"/>\n",
       "<polyline clip-path=\"url(#clip5302)\" style=\"stroke:#000000; stroke-width:2; stroke-opacity:0.1; fill:none\" points=\"\n",
       "  2082.1,1486.45 2082.1,47.2441 \n",
       "  \"/>\n",
       "<polyline clip-path=\"url(#clip5302)\" style=\"stroke:#000000; stroke-width:2; stroke-opacity:0.1; fill:none\" points=\"\n",
       "  145.904,1174.17 2352.76,1174.17 \n",
       "  \"/>\n",
       "<polyline clip-path=\"url(#clip5302)\" style=\"stroke:#000000; stroke-width:2; stroke-opacity:0.1; fill:none\" points=\"\n",
       "  145.904,766.846 2352.76,766.846 \n",
       "  \"/>\n",
       "<polyline clip-path=\"url(#clip5302)\" style=\"stroke:#000000; stroke-width:2; stroke-opacity:0.1; fill:none\" points=\"\n",
       "  145.904,359.524 2352.76,359.524 \n",
       "  \"/>\n",
       "<polyline clip-path=\"url(#clip5302)\" style=\"stroke:#000000; stroke-width:2; stroke-opacity:0.1; fill:none\" points=\"\n",
       "  145.904,87.9763 2352.76,87.9763 \n",
       "  \"/>\n",
       "<polyline clip-path=\"url(#clip5300)\" style=\"stroke:#000000; stroke-width:4; stroke-opacity:1; fill:none\" points=\"\n",
       "  145.904,1486.45 2352.76,1486.45 \n",
       "  \"/>\n",
       "<polyline clip-path=\"url(#clip5300)\" style=\"stroke:#000000; stroke-width:4; stroke-opacity:1; fill:none\" points=\"\n",
       "  145.904,1486.45 145.904,47.2441 \n",
       "  \"/>\n",
       "<polyline clip-path=\"url(#clip5300)\" style=\"stroke:#000000; stroke-width:4; stroke-opacity:1; fill:none\" points=\"\n",
       "  416.556,1486.45 416.556,1469.18 \n",
       "  \"/>\n",
       "<polyline clip-path=\"url(#clip5300)\" style=\"stroke:#000000; stroke-width:4; stroke-opacity:1; fill:none\" points=\"\n",
       "  832.943,1486.45 832.943,1469.18 \n",
       "  \"/>\n",
       "<polyline clip-path=\"url(#clip5300)\" style=\"stroke:#000000; stroke-width:4; stroke-opacity:1; fill:none\" points=\"\n",
       "  1249.33,1486.45 1249.33,1469.18 \n",
       "  \"/>\n",
       "<polyline clip-path=\"url(#clip5300)\" style=\"stroke:#000000; stroke-width:4; stroke-opacity:1; fill:none\" points=\"\n",
       "  1665.72,1486.45 1665.72,1469.18 \n",
       "  \"/>\n",
       "<polyline clip-path=\"url(#clip5300)\" style=\"stroke:#000000; stroke-width:4; stroke-opacity:1; fill:none\" points=\"\n",
       "  2082.1,1486.45 2082.1,1469.18 \n",
       "  \"/>\n",
       "<polyline clip-path=\"url(#clip5300)\" style=\"stroke:#000000; stroke-width:4; stroke-opacity:1; fill:none\" points=\"\n",
       "  145.904,1174.17 172.386,1174.17 \n",
       "  \"/>\n",
       "<polyline clip-path=\"url(#clip5300)\" style=\"stroke:#000000; stroke-width:4; stroke-opacity:1; fill:none\" points=\"\n",
       "  145.904,766.846 172.386,766.846 \n",
       "  \"/>\n",
       "<polyline clip-path=\"url(#clip5300)\" style=\"stroke:#000000; stroke-width:4; stroke-opacity:1; fill:none\" points=\"\n",
       "  145.904,359.524 172.386,359.524 \n",
       "  \"/>\n",
       "<polyline clip-path=\"url(#clip5300)\" style=\"stroke:#000000; stroke-width:4; stroke-opacity:1; fill:none\" points=\"\n",
       "  145.904,87.9763 172.386,87.9763 \n",
       "  \"/>\n",
       "<path clip-path=\"url(#clip5300)\" d=\"M 0 0 M396.567 1525.04 L409.044 1525.04 L409.044 1528.83 L396.567 1528.83 L396.567 1525.04 Z\" fill=\"#000000\" fill-rule=\"evenodd\" fill-opacity=\"1\" /><path clip-path=\"url(#clip5300)\" d=\"M 0 0 M426.961 1509.43 L415.155 1527.88 L426.961 1527.88 L426.961 1509.43 M425.734 1505.36 L431.613 1505.36 L431.613 1527.88 L436.544 1527.88 L436.544 1531.77 L431.613 1531.77 L431.613 1539.92 L426.961 1539.92 L426.961 1531.77 L411.359 1531.77 L411.359 1527.26 L425.734 1505.36 Z\" fill=\"#000000\" fill-rule=\"evenodd\" fill-opacity=\"1\" /><path clip-path=\"url(#clip5300)\" d=\"M 0 0 M813.996 1525.04 L826.473 1525.04 L826.473 1528.83 L813.996 1528.83 L813.996 1525.04 Z\" fill=\"#000000\" fill-rule=\"evenodd\" fill-opacity=\"1\" /><path clip-path=\"url(#clip5300)\" d=\"M 0 0 M835.57 1535.98 L851.889 1535.98 L851.889 1539.92 L829.945 1539.92 L829.945 1535.98 Q832.607 1533.23 837.19 1528.6 Q841.797 1523.95 842.977 1522.61 Q845.223 1520.08 846.102 1518.35 Q847.005 1516.59 847.005 1514.9 Q847.005 1512.14 845.061 1510.41 Q843.139 1508.67 840.038 1508.67 Q837.839 1508.67 835.385 1509.43 Q832.954 1510.2 830.177 1511.75 L830.177 1507.03 Q833.001 1505.89 835.454 1505.31 Q837.908 1504.73 839.945 1504.73 Q845.315 1504.73 848.51 1507.42 Q851.704 1510.11 851.704 1514.6 Q851.704 1516.73 850.894 1518.65 Q850.107 1520.54 848 1523.14 Q847.422 1523.81 844.32 1527.03 Q841.218 1530.22 835.57 1535.98 Z\" fill=\"#000000\" fill-rule=\"evenodd\" fill-opacity=\"1\" /><path clip-path=\"url(#clip5300)\" d=\"M 0 0 M1249.33 1508.44 Q1245.72 1508.44 1243.89 1512 Q1242.08 1515.55 1242.08 1522.67 Q1242.08 1529.78 1243.89 1533.35 Q1245.72 1536.89 1249.33 1536.89 Q1252.96 1536.89 1254.77 1533.35 Q1256.6 1529.78 1256.6 1522.67 Q1256.6 1515.55 1254.77 1512 Q1252.96 1508.44 1249.33 1508.44 M1249.33 1504.73 Q1255.14 1504.73 1258.2 1509.34 Q1261.27 1513.92 1261.27 1522.67 Q1261.27 1531.4 1258.2 1536.01 Q1255.14 1540.59 1249.33 1540.59 Q1243.52 1540.59 1240.44 1536.01 Q1237.39 1531.4 1237.39 1522.67 Q1237.39 1513.92 1240.44 1509.34 Q1243.52 1504.73 1249.33 1504.73 Z\" fill=\"#000000\" fill-rule=\"evenodd\" fill-opacity=\"1\" /><path clip-path=\"url(#clip5300)\" d=\"M 0 0 M1660.37 1535.98 L1676.69 1535.98 L1676.69 1539.92 L1654.74 1539.92 L1654.74 1535.98 Q1657.41 1533.23 1661.99 1528.6 Q1666.6 1523.95 1667.78 1522.61 Q1670.02 1520.08 1670.9 1518.35 Q1671.8 1516.59 1671.8 1514.9 Q1671.8 1512.14 1669.86 1510.41 Q1667.94 1508.67 1664.84 1508.67 Q1662.64 1508.67 1660.18 1509.43 Q1657.75 1510.2 1654.98 1511.75 L1654.98 1507.03 Q1657.8 1505.89 1660.25 1505.31 Q1662.71 1504.73 1664.74 1504.73 Q1670.12 1504.73 1673.31 1507.42 Q1676.5 1510.11 1676.5 1514.6 Q1676.5 1516.73 1675.69 1518.65 Q1674.91 1520.54 1672.8 1523.14 Q1672.22 1523.81 1669.12 1527.03 Q1666.02 1530.22 1660.37 1535.98 Z\" fill=\"#000000\" fill-rule=\"evenodd\" fill-opacity=\"1\" /><path clip-path=\"url(#clip5300)\" d=\"M 0 0 M2085.11 1509.43 L2073.31 1527.88 L2085.11 1527.88 L2085.11 1509.43 M2083.89 1505.36 L2089.77 1505.36 L2089.77 1527.88 L2094.7 1527.88 L2094.7 1531.77 L2089.77 1531.77 L2089.77 1539.92 L2085.11 1539.92 L2085.11 1531.77 L2069.51 1531.77 L2069.51 1527.26 L2083.89 1505.36 Z\" fill=\"#000000\" fill-rule=\"evenodd\" fill-opacity=\"1\" /><path clip-path=\"url(#clip5300)\" d=\"M 0 0 M66.6264 1187.51 L74.2652 1187.51 L74.2652 1161.15 L65.9551 1162.81 L65.9551 1158.55 L74.2189 1156.89 L78.8948 1156.89 L78.8948 1187.51 L86.5337 1187.51 L86.5337 1191.45 L66.6264 1191.45 L66.6264 1187.51 Z\" fill=\"#000000\" fill-rule=\"evenodd\" fill-opacity=\"1\" /><path clip-path=\"url(#clip5300)\" d=\"M 0 0 M91.6031 1185.57 L96.4873 1185.57 L96.4873 1191.45 L91.6031 1191.45 L91.6031 1185.57 Z\" fill=\"#000000\" fill-rule=\"evenodd\" fill-opacity=\"1\" /><path clip-path=\"url(#clip5300)\" d=\"M 0 0 M105.584 1187.51 L121.904 1187.51 L121.904 1191.45 L99.9595 1191.45 L99.9595 1187.51 Q102.622 1184.76 107.205 1180.13 Q111.811 1175.48 112.992 1174.13 Q115.237 1171.61 116.117 1169.87 Q117.02 1168.11 117.02 1166.42 Q117.02 1163.67 115.075 1161.93 Q113.154 1160.2 110.052 1160.2 Q107.853 1160.2 105.399 1160.96 Q102.969 1161.73 100.191 1163.28 L100.191 1158.55 Q103.015 1157.42 105.469 1156.84 Q107.922 1156.26 109.959 1156.26 Q115.33 1156.26 118.524 1158.95 Q121.719 1161.63 121.719 1166.12 Q121.719 1168.25 120.908 1170.17 Q120.121 1172.07 118.015 1174.67 Q117.436 1175.34 114.334 1178.55 Q111.233 1181.75 105.584 1187.51 Z\" fill=\"#000000\" fill-rule=\"evenodd\" fill-opacity=\"1\" /><path clip-path=\"url(#clip5300)\" d=\"M 0 0 M66.0245 780.191 L73.6634 780.191 L73.6634 753.825 L65.3532 755.492 L65.3532 751.233 L73.6171 749.566 L78.293 749.566 L78.293 780.191 L85.9318 780.191 L85.9318 784.126 L66.0245 784.126 L66.0245 780.191 Z\" fill=\"#000000\" fill-rule=\"evenodd\" fill-opacity=\"1\" /><path clip-path=\"url(#clip5300)\" d=\"M 0 0 M91.0012 778.246 L95.8855 778.246 L95.8855 784.126 L91.0012 784.126 L91.0012 778.246 Z\" fill=\"#000000\" fill-rule=\"evenodd\" fill-opacity=\"1\" /><path clip-path=\"url(#clip5300)\" d=\"M 0 0 M101.001 749.566 L119.358 749.566 L119.358 753.501 L105.284 753.501 L105.284 761.973 Q106.302 761.626 107.321 761.464 Q108.339 761.279 109.358 761.279 Q115.145 761.279 118.524 764.45 Q121.904 767.621 121.904 773.038 Q121.904 778.617 118.432 781.719 Q114.959 784.797 108.64 784.797 Q106.464 784.797 104.196 784.427 Q101.95 784.057 99.5429 783.316 L99.5429 778.617 Q101.626 779.751 103.848 780.307 Q106.071 780.862 108.547 780.862 Q112.552 780.862 114.89 778.756 Q117.228 776.649 117.228 773.038 Q117.228 769.427 114.89 767.321 Q112.552 765.214 108.547 765.214 Q106.672 765.214 104.797 765.631 Q102.946 766.047 101.001 766.927 L101.001 749.566 Z\" fill=\"#000000\" fill-rule=\"evenodd\" fill-opacity=\"1\" /><path clip-path=\"url(#clip5300)\" d=\"M 0 0 M65.1217 372.869 L72.7606 372.869 L72.7606 346.503 L64.4505 348.17 L64.4505 343.911 L72.7143 342.244 L77.3902 342.244 L77.3902 372.869 L85.029 372.869 L85.029 376.804 L65.1217 376.804 L65.1217 372.869 Z\" fill=\"#000000\" fill-rule=\"evenodd\" fill-opacity=\"1\" /><path clip-path=\"url(#clip5300)\" d=\"M 0 0 M90.0985 370.925 L94.9827 370.925 L94.9827 376.804 L90.0985 376.804 L90.0985 370.925 Z\" fill=\"#000000\" fill-rule=\"evenodd\" fill-opacity=\"1\" /><path clip-path=\"url(#clip5300)\" d=\"M 0 0 M110.052 360.392 Q106.719 360.392 104.797 362.175 Q102.899 363.957 102.899 367.082 Q102.899 370.207 104.797 371.989 Q106.719 373.772 110.052 373.772 Q113.385 373.772 115.307 371.989 Q117.228 370.184 117.228 367.082 Q117.228 363.957 115.307 362.175 Q113.409 360.392 110.052 360.392 M105.376 358.401 Q102.367 357.661 100.677 355.601 Q99.0105 353.54 99.0105 350.577 Q99.0105 346.434 101.95 344.027 Q104.913 341.619 110.052 341.619 Q115.214 341.619 118.154 344.027 Q121.094 346.434 121.094 350.577 Q121.094 353.54 119.404 355.601 Q117.737 357.661 114.751 358.401 Q118.131 359.189 120.006 361.48 Q121.904 363.772 121.904 367.082 Q121.904 372.105 118.825 374.79 Q115.77 377.475 110.052 377.475 Q104.334 377.475 101.256 374.79 Q98.2003 372.105 98.2003 367.082 Q98.2003 363.772 100.098 361.48 Q101.997 359.189 105.376 358.401 M103.663 351.017 Q103.663 353.702 105.33 355.207 Q107.02 356.712 110.052 356.712 Q113.061 356.712 114.751 355.207 Q116.464 353.702 116.464 351.017 Q116.464 348.332 114.751 346.827 Q113.061 345.323 110.052 345.323 Q107.02 345.323 105.33 346.827 Q103.663 348.332 103.663 351.017 Z\" fill=\"#000000\" fill-rule=\"evenodd\" fill-opacity=\"1\" /><path clip-path=\"url(#clip5300)\" d=\"M 0 0 M68.6171 101.321 L84.9365 101.321 L84.9365 105.256 L62.9921 105.256 L62.9921 101.321 Q65.6541 98.5665 70.2375 93.9369 Q74.8439 89.2841 76.0245 87.9416 Q78.2698 85.4184 79.1494 83.6823 Q80.0522 81.9231 80.0522 80.2333 Q80.0522 77.4786 78.1078 75.7425 Q76.1865 74.0064 73.0847 74.0064 Q70.8856 74.0064 68.4319 74.7703 Q66.0014 75.5342 63.2236 77.0851 L63.2236 72.3629 Q66.0477 71.2287 68.5014 70.65 Q70.955 70.0713 72.9921 70.0713 Q78.3624 70.0713 81.5568 72.7565 Q84.7513 75.4416 84.7513 79.9323 Q84.7513 82.062 83.9411 83.9832 Q83.1541 85.8814 81.0476 88.474 Q80.4689 89.1453 77.367 92.3628 Q74.2652 95.5573 68.6171 101.321 Z\" fill=\"#000000\" fill-rule=\"evenodd\" fill-opacity=\"1\" /><path clip-path=\"url(#clip5300)\" d=\"M 0 0 M90.0059 99.3767 L94.8901 99.3767 L94.8901 105.256 L90.0059 105.256 L90.0059 99.3767 Z\" fill=\"#000000\" fill-rule=\"evenodd\" fill-opacity=\"1\" /><path clip-path=\"url(#clip5300)\" d=\"M 0 0 M109.959 73.775 Q106.348 73.775 104.52 77.3398 Q102.714 80.8814 102.714 88.011 Q102.714 95.1174 104.52 98.6822 Q106.348 102.224 109.959 102.224 Q113.594 102.224 115.399 98.6822 Q117.228 95.1174 117.228 88.011 Q117.228 80.8814 115.399 77.3398 Q113.594 73.775 109.959 73.775 M109.959 70.0713 Q115.77 70.0713 118.825 74.6777 Q121.904 79.261 121.904 88.011 Q121.904 96.7378 118.825 101.344 Q115.77 105.928 109.959 105.928 Q104.149 105.928 101.071 101.344 Q98.0151 96.7378 98.0151 88.011 Q98.0151 79.261 101.071 74.6777 Q104.149 70.0713 109.959 70.0713 Z\" fill=\"#000000\" fill-rule=\"evenodd\" fill-opacity=\"1\" /><polyline clip-path=\"url(#clip5302)\" style=\"stroke:#009af9; stroke-width:4; stroke-opacity:1; fill:none\" points=\"\n",
       "  208.362,1445.72 228.694,1445.72 416.691,1445.72 529.669,1445.72 625.191,1445.72 728.954,1445.72 824.615,1445.72 927.173,1445.72 1046,1445.72 1151.59,1445.72 \n",
       "  1244.19,1445.72 1345.15,1445.72 1446.71,1445.72 1558.99,1445.72 1665.83,1445.72 1776.91,1445.72 1870.42,1445.72 1984.59,1445.72 2091.91,1445.72 2263.84,1445.72 \n",
       "  2290.3,1445.72 \n",
       "  \"/>\n",
       "<path clip-path=\"url(#clip5300)\" d=\"\n",
       "M1989.74 251.724 L2280.76 251.724 L2280.76 130.764 L1989.74 130.764  Z\n",
       "  \" fill=\"#ffffff\" fill-rule=\"evenodd\" fill-opacity=\"1\"/>\n",
       "<polyline clip-path=\"url(#clip5300)\" style=\"stroke:#000000; stroke-width:4; stroke-opacity:1; fill:none\" points=\"\n",
       "  1989.74,251.724 2280.76,251.724 2280.76,130.764 1989.74,130.764 1989.74,251.724 \n",
       "  \"/>\n",
       "<polyline clip-path=\"url(#clip5300)\" style=\"stroke:#009af9; stroke-width:4; stroke-opacity:1; fill:none\" points=\"\n",
       "  2013.74,191.244 2157.74,191.244 \n",
       "  \"/>\n",
       "<path clip-path=\"url(#clip5300)\" d=\"M 0 0 M2195.58 210.931 Q2193.77 215.561 2192.06 216.973 Q2190.35 218.385 2187.48 218.385 L2184.08 218.385 L2184.08 214.82 L2186.58 214.82 Q2188.33 214.82 2189.31 213.987 Q2190.28 213.154 2191.46 210.052 L2192.22 208.107 L2181.74 182.598 L2186.25 182.598 L2194.35 202.876 L2202.46 182.598 L2206.97 182.598 L2195.58 210.931 Z\" fill=\"#000000\" fill-rule=\"evenodd\" fill-opacity=\"1\" /><path clip-path=\"url(#clip5300)\" d=\"M 0 0 M2212.85 204.589 L2220.49 204.589 L2220.49 178.223 L2212.18 179.89 L2212.18 175.631 L2220.44 173.964 L2225.12 173.964 L2225.12 204.589 L2232.76 204.589 L2232.76 208.524 L2212.85 208.524 L2212.85 204.589 Z\" fill=\"#000000\" fill-rule=\"evenodd\" fill-opacity=\"1\" /></svg>\n"
      ]
     },
     "execution_count": 11,
     "metadata": {},
     "output_type": "execute_result"
    }
   ],
   "source": [
    "one_point_zero(x) = 1^x\n",
    "plot(one_point_zero, -5,5)"
   ]
  },
  {
   "cell_type": "code",
   "execution_count": 12,
   "id": "d0d9a5f3-e5be-425e-a83f-fbf27f5dbb36",
   "metadata": {},
   "outputs": [
    {
     "data": {
      "image/svg+xml": [
       "<?xml version=\"1.0\" encoding=\"utf-8\"?>\n",
       "<svg xmlns=\"http://www.w3.org/2000/svg\" xmlns:xlink=\"http://www.w3.org/1999/xlink\" width=\"600\" height=\"400\" viewBox=\"0 0 2400 1600\">\n",
       "<defs>\n",
       "  <clipPath id=\"clip5700\">\n",
       "    <rect x=\"0\" y=\"0\" width=\"2400\" height=\"1600\"/>\n",
       "  </clipPath>\n",
       "</defs>\n",
       "<path clip-path=\"url(#clip5700)\" d=\"\n",
       "M0 1600 L2400 1600 L2400 0 L0 0  Z\n",
       "  \" fill=\"#ffffff\" fill-rule=\"evenodd\" fill-opacity=\"1\"/>\n",
       "<defs>\n",
       "  <clipPath id=\"clip5701\">\n",
       "    <rect x=\"480\" y=\"0\" width=\"1681\" height=\"1600\"/>\n",
       "  </clipPath>\n",
       "</defs>\n",
       "<path clip-path=\"url(#clip5700)\" d=\"\n",
       "M136.76 1486.45 L2352.76 1486.45 L2352.76 47.2441 L136.76 47.2441  Z\n",
       "  \" fill=\"#ffffff\" fill-rule=\"evenodd\" fill-opacity=\"1\"/>\n",
       "<defs>\n",
       "  <clipPath id=\"clip5702\">\n",
       "    <rect x=\"136\" y=\"47\" width=\"2217\" height=\"1440\"/>\n",
       "  </clipPath>\n",
       "</defs>\n",
       "<polyline clip-path=\"url(#clip5702)\" style=\"stroke:#000000; stroke-width:2; stroke-opacity:0.1; fill:none\" points=\"\n",
       "  408.533,1486.45 408.533,47.2441 \n",
       "  \"/>\n",
       "<polyline clip-path=\"url(#clip5702)\" style=\"stroke:#000000; stroke-width:2; stroke-opacity:0.1; fill:none\" points=\"\n",
       "  826.646,1486.45 826.646,47.2441 \n",
       "  \"/>\n",
       "<polyline clip-path=\"url(#clip5702)\" style=\"stroke:#000000; stroke-width:2; stroke-opacity:0.1; fill:none\" points=\"\n",
       "  1244.76,1486.45 1244.76,47.2441 \n",
       "  \"/>\n",
       "<polyline clip-path=\"url(#clip5702)\" style=\"stroke:#000000; stroke-width:2; stroke-opacity:0.1; fill:none\" points=\"\n",
       "  1662.87,1486.45 1662.87,47.2441 \n",
       "  \"/>\n",
       "<polyline clip-path=\"url(#clip5702)\" style=\"stroke:#000000; stroke-width:2; stroke-opacity:0.1; fill:none\" points=\"\n",
       "  2080.98,1486.45 2080.98,47.2441 \n",
       "  \"/>\n",
       "<polyline clip-path=\"url(#clip5702)\" style=\"stroke:#000000; stroke-width:2; stroke-opacity:0.1; fill:none\" points=\"\n",
       "  136.76,1447.04 2352.76,1447.04 \n",
       "  \"/>\n",
       "<polyline clip-path=\"url(#clip5702)\" style=\"stroke:#000000; stroke-width:2; stroke-opacity:0.1; fill:none\" points=\"\n",
       "  136.76,1022.33 2352.76,1022.33 \n",
       "  \"/>\n",
       "<polyline clip-path=\"url(#clip5702)\" style=\"stroke:#000000; stroke-width:2; stroke-opacity:0.1; fill:none\" points=\"\n",
       "  136.76,597.626 2352.76,597.626 \n",
       "  \"/>\n",
       "<polyline clip-path=\"url(#clip5702)\" style=\"stroke:#000000; stroke-width:2; stroke-opacity:0.1; fill:none\" points=\"\n",
       "  136.76,172.918 2352.76,172.918 \n",
       "  \"/>\n",
       "<polyline clip-path=\"url(#clip5700)\" style=\"stroke:#000000; stroke-width:4; stroke-opacity:1; fill:none\" points=\"\n",
       "  136.76,1486.45 2352.76,1486.45 \n",
       "  \"/>\n",
       "<polyline clip-path=\"url(#clip5700)\" style=\"stroke:#000000; stroke-width:4; stroke-opacity:1; fill:none\" points=\"\n",
       "  136.76,1486.45 136.76,47.2441 \n",
       "  \"/>\n",
       "<polyline clip-path=\"url(#clip5700)\" style=\"stroke:#000000; stroke-width:4; stroke-opacity:1; fill:none\" points=\"\n",
       "  408.533,1486.45 408.533,1469.18 \n",
       "  \"/>\n",
       "<polyline clip-path=\"url(#clip5700)\" style=\"stroke:#000000; stroke-width:4; stroke-opacity:1; fill:none\" points=\"\n",
       "  826.646,1486.45 826.646,1469.18 \n",
       "  \"/>\n",
       "<polyline clip-path=\"url(#clip5700)\" style=\"stroke:#000000; stroke-width:4; stroke-opacity:1; fill:none\" points=\"\n",
       "  1244.76,1486.45 1244.76,1469.18 \n",
       "  \"/>\n",
       "<polyline clip-path=\"url(#clip5700)\" style=\"stroke:#000000; stroke-width:4; stroke-opacity:1; fill:none\" points=\"\n",
       "  1662.87,1486.45 1662.87,1469.18 \n",
       "  \"/>\n",
       "<polyline clip-path=\"url(#clip5700)\" style=\"stroke:#000000; stroke-width:4; stroke-opacity:1; fill:none\" points=\"\n",
       "  2080.98,1486.45 2080.98,1469.18 \n",
       "  \"/>\n",
       "<polyline clip-path=\"url(#clip5700)\" style=\"stroke:#000000; stroke-width:4; stroke-opacity:1; fill:none\" points=\"\n",
       "  136.76,1447.04 163.352,1447.04 \n",
       "  \"/>\n",
       "<polyline clip-path=\"url(#clip5700)\" style=\"stroke:#000000; stroke-width:4; stroke-opacity:1; fill:none\" points=\"\n",
       "  136.76,1022.33 163.352,1022.33 \n",
       "  \"/>\n",
       "<polyline clip-path=\"url(#clip5700)\" style=\"stroke:#000000; stroke-width:4; stroke-opacity:1; fill:none\" points=\"\n",
       "  136.76,597.626 163.352,597.626 \n",
       "  \"/>\n",
       "<polyline clip-path=\"url(#clip5700)\" style=\"stroke:#000000; stroke-width:4; stroke-opacity:1; fill:none\" points=\"\n",
       "  136.76,172.918 163.352,172.918 \n",
       "  \"/>\n",
       "<path clip-path=\"url(#clip5700)\" d=\"M 0 0 M388.545 1525.04 L401.022 1525.04 L401.022 1528.83 L388.545 1528.83 L388.545 1525.04 Z\" fill=\"#000000\" fill-rule=\"evenodd\" fill-opacity=\"1\" /><path clip-path=\"url(#clip5700)\" d=\"M 0 0 M418.938 1509.43 L407.133 1527.88 L418.938 1527.88 L418.938 1509.43 M417.712 1505.36 L423.591 1505.36 L423.591 1527.88 L428.522 1527.88 L428.522 1531.77 L423.591 1531.77 L423.591 1539.92 L418.938 1539.92 L418.938 1531.77 L403.337 1531.77 L403.337 1527.26 L417.712 1505.36 Z\" fill=\"#000000\" fill-rule=\"evenodd\" fill-opacity=\"1\" /><path clip-path=\"url(#clip5700)\" d=\"M 0 0 M807.699 1525.04 L820.176 1525.04 L820.176 1528.83 L807.699 1528.83 L807.699 1525.04 Z\" fill=\"#000000\" fill-rule=\"evenodd\" fill-opacity=\"1\" /><path clip-path=\"url(#clip5700)\" d=\"M 0 0 M829.273 1535.98 L845.592 1535.98 L845.592 1539.92 L823.648 1539.92 L823.648 1535.98 Q826.31 1533.23 830.893 1528.6 Q835.5 1523.95 836.68 1522.61 Q838.926 1520.08 839.805 1518.35 Q840.708 1516.59 840.708 1514.9 Q840.708 1512.14 838.764 1510.41 Q836.842 1508.67 833.741 1508.67 Q831.542 1508.67 829.088 1509.43 Q826.657 1510.2 823.88 1511.75 L823.88 1507.03 Q826.704 1505.89 829.157 1505.31 Q831.611 1504.73 833.648 1504.73 Q839.018 1504.73 842.213 1507.42 Q845.407 1510.11 845.407 1514.6 Q845.407 1516.73 844.597 1518.65 Q843.81 1520.54 841.704 1523.14 Q841.125 1523.81 838.023 1527.03 Q834.921 1530.22 829.273 1535.98 Z\" fill=\"#000000\" fill-rule=\"evenodd\" fill-opacity=\"1\" /><path clip-path=\"url(#clip5700)\" d=\"M 0 0 M1244.76 1508.44 Q1241.15 1508.44 1239.32 1512 Q1237.51 1515.55 1237.51 1522.67 Q1237.51 1529.78 1239.32 1533.35 Q1241.15 1536.89 1244.76 1536.89 Q1248.39 1536.89 1250.2 1533.35 Q1252.03 1529.78 1252.03 1522.67 Q1252.03 1515.55 1250.2 1512 Q1248.39 1508.44 1244.76 1508.44 M1244.76 1504.73 Q1250.57 1504.73 1253.62 1509.34 Q1256.7 1513.92 1256.7 1522.67 Q1256.7 1531.4 1253.62 1536.01 Q1250.57 1540.59 1244.76 1540.59 Q1238.95 1540.59 1235.87 1536.01 Q1232.81 1531.4 1232.81 1522.67 Q1232.81 1513.92 1235.87 1509.34 Q1238.95 1504.73 1244.76 1504.73 Z\" fill=\"#000000\" fill-rule=\"evenodd\" fill-opacity=\"1\" /><path clip-path=\"url(#clip5700)\" d=\"M 0 0 M1657.52 1535.98 L1673.84 1535.98 L1673.84 1539.92 L1651.9 1539.92 L1651.9 1535.98 Q1654.56 1533.23 1659.14 1528.6 Q1663.75 1523.95 1664.93 1522.61 Q1667.18 1520.08 1668.06 1518.35 Q1668.96 1516.59 1668.96 1514.9 Q1668.96 1512.14 1667.01 1510.41 Q1665.09 1508.67 1661.99 1508.67 Q1659.79 1508.67 1657.34 1509.43 Q1654.91 1510.2 1652.13 1511.75 L1652.13 1507.03 Q1654.95 1505.89 1657.41 1505.31 Q1659.86 1504.73 1661.9 1504.73 Q1667.27 1504.73 1670.46 1507.42 Q1673.66 1510.11 1673.66 1514.6 Q1673.66 1516.73 1672.85 1518.65 Q1672.06 1520.54 1669.95 1523.14 Q1669.38 1523.81 1666.27 1527.03 Q1663.17 1530.22 1657.52 1535.98 Z\" fill=\"#000000\" fill-rule=\"evenodd\" fill-opacity=\"1\" /><path clip-path=\"url(#clip5700)\" d=\"M 0 0 M2083.99 1509.43 L2072.19 1527.88 L2083.99 1527.88 L2083.99 1509.43 M2082.77 1505.36 L2088.64 1505.36 L2088.64 1527.88 L2093.58 1527.88 L2093.58 1531.77 L2088.64 1531.77 L2088.64 1539.92 L2083.99 1539.92 L2083.99 1531.77 L2068.39 1531.77 L2068.39 1527.26 L2082.77 1505.36 Z\" fill=\"#000000\" fill-rule=\"evenodd\" fill-opacity=\"1\" /><path clip-path=\"url(#clip5700)\" d=\"M 0 0 M100.816 1432.84 Q97.2049 1432.84 95.3762 1436.41 Q93.5707 1439.95 93.5707 1447.08 Q93.5707 1454.18 95.3762 1457.75 Q97.2049 1461.29 100.816 1461.29 Q104.45 1461.29 106.256 1457.75 Q108.084 1454.18 108.084 1447.08 Q108.084 1439.95 106.256 1436.41 Q104.45 1432.84 100.816 1432.84 M100.816 1429.14 Q106.626 1429.14 109.682 1433.74 Q112.76 1438.33 112.76 1447.08 Q112.76 1455.8 109.682 1460.41 Q106.626 1464.99 100.816 1464.99 Q95.0058 1464.99 91.9272 1460.41 Q88.8716 1455.8 88.8716 1447.08 Q88.8716 1438.33 91.9272 1433.74 Q95.0058 1429.14 100.816 1429.14 Z\" fill=\"#000000\" fill-rule=\"evenodd\" fill-opacity=\"1\" /><path clip-path=\"url(#clip5700)\" d=\"M 0 0 M65.8393 1035.68 L73.4782 1035.68 L73.4782 1009.31 L65.168 1010.98 L65.168 1006.72 L73.4319 1005.05 L78.1078 1005.05 L78.1078 1035.68 L85.7466 1035.68 L85.7466 1039.61 L65.8393 1039.61 L65.8393 1035.68 Z\" fill=\"#000000\" fill-rule=\"evenodd\" fill-opacity=\"1\" /><path clip-path=\"url(#clip5700)\" d=\"M 0 0 M100.816 1008.13 Q97.2049 1008.13 95.3762 1011.7 Q93.5707 1015.24 93.5707 1022.37 Q93.5707 1029.48 95.3762 1033.04 Q97.2049 1036.58 100.816 1036.58 Q104.45 1036.58 106.256 1033.04 Q108.084 1029.48 108.084 1022.37 Q108.084 1015.24 106.256 1011.7 Q104.45 1008.13 100.816 1008.13 M100.816 1004.43 Q106.626 1004.43 109.682 1009.04 Q112.76 1013.62 112.76 1022.37 Q112.76 1031.1 109.682 1035.7 Q106.626 1040.29 100.816 1040.29 Q95.0058 1040.29 91.9272 1035.7 Q88.8716 1031.1 88.8716 1022.37 Q88.8716 1013.62 91.9272 1009.04 Q95.0058 1004.43 100.816 1004.43 Z\" fill=\"#000000\" fill-rule=\"evenodd\" fill-opacity=\"1\" /><path clip-path=\"url(#clip5700)\" d=\"M 0 0 M69.4273 610.971 L85.7466 610.971 L85.7466 614.906 L63.8023 614.906 L63.8023 610.971 Q66.4643 608.216 71.0476 603.587 Q75.6541 598.934 76.8346 597.592 Q79.08 595.068 79.9596 593.332 Q80.8624 591.573 80.8624 589.883 Q80.8624 587.129 78.918 585.393 Q76.9967 583.656 73.8948 583.656 Q71.6958 583.656 69.2421 584.42 Q66.8115 585.184 64.0338 586.735 L64.0338 582.013 Q66.8578 580.879 69.3115 580.3 Q71.7652 579.721 73.8023 579.721 Q79.1726 579.721 82.367 582.406 Q85.5614 585.092 85.5614 589.582 Q85.5614 591.712 84.7513 593.633 Q83.9642 595.531 81.8578 598.124 Q81.2791 598.795 78.1772 602.013 Q75.0754 605.207 69.4273 610.971 Z\" fill=\"#000000\" fill-rule=\"evenodd\" fill-opacity=\"1\" /><path clip-path=\"url(#clip5700)\" d=\"M 0 0 M100.816 583.425 Q97.2049 583.425 95.3762 586.99 Q93.5707 590.531 93.5707 597.661 Q93.5707 604.767 95.3762 608.332 Q97.2049 611.874 100.816 611.874 Q104.45 611.874 106.256 608.332 Q108.084 604.767 108.084 597.661 Q108.084 590.531 106.256 586.99 Q104.45 583.425 100.816 583.425 M100.816 579.721 Q106.626 579.721 109.682 584.328 Q112.76 588.911 112.76 597.661 Q112.76 606.388 109.682 610.994 Q106.626 615.578 100.816 615.578 Q95.0058 615.578 91.9272 610.994 Q88.8716 606.388 88.8716 597.661 Q88.8716 588.911 91.9272 584.328 Q95.0058 579.721 100.816 579.721 Z\" fill=\"#000000\" fill-rule=\"evenodd\" fill-opacity=\"1\" /><path clip-path=\"url(#clip5700)\" d=\"M 0 0 M78.617 171.564 Q81.9735 172.281 83.8485 174.55 Q85.7466 176.818 85.7466 180.152 Q85.7466 185.267 82.2281 188.068 Q78.7096 190.869 72.2282 190.869 Q70.0523 190.869 67.7375 190.429 Q65.4458 190.013 62.9921 189.156 L62.9921 184.642 Q64.9366 185.777 67.2514 186.355 Q69.5662 186.934 72.0893 186.934 Q76.4874 186.934 78.7791 185.198 Q81.0939 183.462 81.0939 180.152 Q81.0939 177.096 78.9411 175.383 Q76.8115 173.647 72.9921 173.647 L68.9643 173.647 L68.9643 169.805 L73.1773 169.805 Q76.6263 169.805 78.455 168.439 Q80.2837 167.05 80.2837 164.457 Q80.2837 161.795 78.3856 160.383 Q76.5106 158.948 72.9921 158.948 Q71.0708 158.948 68.8717 159.365 Q66.6727 159.781 64.0338 160.661 L64.0338 156.494 Q66.6958 155.754 69.0106 155.383 Q71.3486 155.013 73.4087 155.013 Q78.7328 155.013 81.8346 157.443 Q84.9365 159.851 84.9365 163.971 Q84.9365 166.842 83.2929 168.832 Q81.6494 170.8 78.617 171.564 Z\" fill=\"#000000\" fill-rule=\"evenodd\" fill-opacity=\"1\" /><path clip-path=\"url(#clip5700)\" d=\"M 0 0 M100.816 158.717 Q97.2049 158.717 95.3762 162.281 Q93.5707 165.823 93.5707 172.953 Q93.5707 180.059 95.3762 183.624 Q97.2049 187.166 100.816 187.166 Q104.45 187.166 106.256 183.624 Q108.084 180.059 108.084 172.953 Q108.084 165.823 106.256 162.281 Q104.45 158.717 100.816 158.717 M100.816 155.013 Q106.626 155.013 109.682 159.619 Q112.76 164.203 112.76 172.953 Q112.76 181.679 109.682 186.286 Q106.626 190.869 100.816 190.869 Q95.0058 190.869 91.9272 186.286 Q88.8716 181.679 88.8716 172.953 Q88.8716 164.203 91.9272 159.619 Q95.0058 155.013 100.816 155.013 Z\" fill=\"#000000\" fill-rule=\"evenodd\" fill-opacity=\"1\" /><polyline clip-path=\"url(#clip5702)\" style=\"stroke:#009af9; stroke-width:4; stroke-opacity:1; fill:none\" points=\"\n",
       "  199.477,1445.72 219.893,1445.62 408.669,1444.39 522.116,1443.17 618.033,1441.73 722.226,1439.53 818.283,1436.72 921.267,1432.51 1040.58,1425.46 1146.62,1416.37 \n",
       "  1239.6,1405.29 1340.98,1388.61 1442.95,1365.11 1555.7,1327.96 1662.98,1277.1 1718.75,1242.58 1774.53,1201.05 1821.48,1159.61 1868.42,1111.2 1925.74,1040.9 \n",
       "  1983.06,955.897 2010,910.007 2036.94,859.828 2063.88,804.962 2090.83,744.968 2133.99,636.953 2177.15,512.32 2198.73,442.987 2220.31,368.512 2241.89,288.512 \n",
       "  2263.47,202.579 2270.11,174.867 2276.75,146.539 2283.4,117.58 2290.04,87.9763 \n",
       "  \"/>\n",
       "<path clip-path=\"url(#clip5700)\" d=\"\n",
       "M1989.74 251.724 L2280.76 251.724 L2280.76 130.764 L1989.74 130.764  Z\n",
       "  \" fill=\"#ffffff\" fill-rule=\"evenodd\" fill-opacity=\"1\"/>\n",
       "<polyline clip-path=\"url(#clip5700)\" style=\"stroke:#000000; stroke-width:4; stroke-opacity:1; fill:none\" points=\"\n",
       "  1989.74,251.724 2280.76,251.724 2280.76,130.764 1989.74,130.764 1989.74,251.724 \n",
       "  \"/>\n",
       "<polyline clip-path=\"url(#clip5700)\" style=\"stroke:#009af9; stroke-width:4; stroke-opacity:1; fill:none\" points=\"\n",
       "  2013.74,191.244 2157.74,191.244 \n",
       "  \"/>\n",
       "<path clip-path=\"url(#clip5700)\" d=\"M 0 0 M2195.58 210.931 Q2193.77 215.561 2192.06 216.973 Q2190.35 218.385 2187.48 218.385 L2184.08 218.385 L2184.08 214.82 L2186.58 214.82 Q2188.33 214.82 2189.31 213.987 Q2190.28 213.154 2191.46 210.052 L2192.22 208.107 L2181.74 182.598 L2186.25 182.598 L2194.35 202.876 L2202.46 182.598 L2206.97 182.598 L2195.58 210.931 Z\" fill=\"#000000\" fill-rule=\"evenodd\" fill-opacity=\"1\" /><path clip-path=\"url(#clip5700)\" d=\"M 0 0 M2212.85 204.589 L2220.49 204.589 L2220.49 178.223 L2212.18 179.89 L2212.18 175.631 L2220.44 173.964 L2225.12 173.964 L2225.12 204.589 L2232.76 204.589 L2232.76 208.524 L2212.85 208.524 L2212.85 204.589 Z\" fill=\"#000000\" fill-rule=\"evenodd\" fill-opacity=\"1\" /></svg>\n"
      ]
     },
     "execution_count": 12,
     "metadata": {},
     "output_type": "execute_result"
    }
   ],
   "source": [
    "greater_than_one(x) = 2^x\n",
    "plot(greater_than_one, -5,5)"
   ]
  },
  {
   "cell_type": "code",
   "execution_count": null,
   "id": "37e774d7-f31e-4a86-bca1-7bc4e6517096",
   "metadata": {},
   "outputs": [],
   "source": []
  }
 ],
 "metadata": {
  "kernelspec": {
   "display_name": "Julia 1.6.3",
   "language": "julia",
   "name": "julia-1.6"
  },
  "language_info": {
   "file_extension": ".jl",
   "mimetype": "application/julia",
   "name": "julia",
   "version": "1.6.3"
  }
 },
 "nbformat": 4,
 "nbformat_minor": 5
}
