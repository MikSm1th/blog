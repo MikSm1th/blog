{
 "cells": [
  {
   "cell_type": "markdown",
   "id": "c7363601-f0f3-4be3-9834-915fa2f526de",
   "metadata": {},
   "source": [
    "### Exponential functions in Julia "
   ]
  },
  {
   "cell_type": "markdown",
   "id": "4e5d1e1f-711a-456e-a8fa-c82fef51f9b9",
   "metadata": {},
   "source": [
    "Welcome to my journey as a middle aged slacker teaching himself calculus.\n",
    "\n",
    "For those new to the Julia here are some resources:\n",
    "1. [Julia language](https:julialang.org)\n",
    "2. [Installing Julia](https://julialang.org/downloads/)\n",
    "3. [Julia's package manager](https://docs.julialang.org/en/v1/stdlib/Pkg/)\n",
    "4. [Calculus with Julia](https://docs.juliahub.com/CalculusWithJulia/AZHbv/0.0.16/)\n",
    "\n",
    "![Classroom](https://cdn-images-1.medium.com/max/800/0*GQV2wrp1TeciZeaf)\n",
    "\n",
    "Below are my notes on exponential functions in Julia."
   ]
  },
  {
   "cell_type": "markdown",
   "id": "5f9004ad-e5f3-467b-8cd9-5ced3a5a6b16",
   "metadata": {},
   "source": [
    "This article was written using [jupyter](https://jupyter.org/) inside a Julia environment with the following packages loaded."
   ]
  },
  {
   "cell_type": "code",
   "execution_count": 1,
   "id": "7a786efc-1baa-4c74-b1c2-9daa2c423e60",
   "metadata": {},
   "outputs": [],
   "source": [
    "using CalculusWithJulia, Plots"
   ]
  },
  {
   "cell_type": "markdown",
   "id": "fa85b323-c00f-45bd-9481-7b6f129eaf3e",
   "metadata": {},
   "source": [
    "### What is a function?\n",
    "\n",
    "A function is a defined relationship between and some input and some output.<br>\n",
    "In math a functions input is called it's domain, and output is called range.<br>\n",
    "\n",
    "![d_func_r](https://raw.githubusercontent.com/MikSm1th/blog/main/juliaCal/expo/pics/do_func_ran.png)\n",
    "\n",
    "Every value in a functions domain can only result in one unique value in it's range. <br>\n",
    "An example of a function called `plus_one` looks like this in mathematical notation.<br>\n",
    "\n",
    "![plus_one](https://raw.githubusercontent.com/MikSm1th/blog/main/juliaCal/expo/pics/plus_one.png)\n",
    "\n",
    "The same function in Julia is defined here."
   ]
  },
  {
   "cell_type": "code",
   "execution_count": 39,
   "id": "8bb6336a-6aa0-423a-bf03-61a616cf05a2",
   "metadata": {},
   "outputs": [
    {
     "data": {
      "text/plain": [
       "plus_one (generic function with 1 method)"
      ]
     },
     "execution_count": 39,
     "metadata": {},
     "output_type": "execute_result"
    }
   ],
   "source": [
    "write(\"./code/plus_one.jl\", In[IJulia.n])\n",
    "plus_one(x) = x + 1"
   ]
  },
  {
   "cell_type": "markdown",
   "id": "2865ffa6-ad30-4529-87f4-2edfa40909cd",
   "metadata": {},
   "source": [
    "We will define a small [array](https://docs.julialang.org/en/v1/base/arrays/) in julia."
   ]
  },
  {
   "cell_type": "code",
   "execution_count": 40,
   "id": "6efea1cf-3117-44bb-80c8-3555388cac51",
   "metadata": {},
   "outputs": [
    {
     "data": {
      "text/plain": [
       "5-element Vector{Int64}:\n",
       " 1\n",
       " 2\n",
       " 3\n",
       " 4\n",
       " 5"
      ]
     },
     "execution_count": 40,
     "metadata": {},
     "output_type": "execute_result"
    }
   ],
   "source": [
    "write(\"./code/small_array.jl\", In[IJulia.n])\n",
    "small_array = [1,2,3,4,5]"
   ]
  },
  {
   "cell_type": "markdown",
   "id": "deaf24e4-cd6f-4660-a73a-cab857c932d5",
   "metadata": {},
   "source": [
    "Now we [loop](https://docs.julialang.org/en/v1/manual/control-flow/#man-loops) through our array."
   ]
  },
  {
   "cell_type": "code",
   "execution_count": 41,
   "id": "4b8c46a8-d3a7-4627-9304-8f5ce3157883",
   "metadata": {},
   "outputs": [
    {
     "name": "stdout",
     "output_type": "stream",
     "text": [
      "2\n",
      "3\n",
      "4\n",
      "5\n",
      "6\n"
     ]
    }
   ],
   "source": [
    "write(\"./code/for_loop.jl\", In[IJulia.n])\n",
    "for number in small_array\n",
    "   println(plus_one(number))\n",
    "end"
   ]
  },
  {
   "cell_type": "markdown",
   "id": "0fb39e7e-a6ce-4ee9-a05e-c0b5cce25f7d",
   "metadata": {},
   "source": [
    "Broadly speaking, generic functions in math are defined simply as $f$ .<br>\n",
    "Here we have our `plus_one` function defined as $f$ :<br>\n",
    "\n",
    "![f_of_x](https://raw.githubusercontent.com/MikSm1th/blog/main/juliaCal/expo/pics/f_of_x.png)"
   ]
  },
  {
   "cell_type": "markdown",
   "id": "4773af26-cb41-47ad-9825-101aba5354ee",
   "metadata": {},
   "source": [
    "### Exponential Functions\n",
    "\n",
    "We can define exponential functions as follows:\n",
    "\n",
    "![f_of_x](https://raw.githubusercontent.com/MikSm1th/blog/main/juliaCal/expo/pics/expo_func.png)"
   ]
  },
  {
   "cell_type": "markdown",
   "id": "e7b8f98e-1ede-4bf1-aa0e-789c18caad96",
   "metadata": {},
   "source": [
    "Let's graph some exponential functions using [plots](https://docs.juliaplots.org/stable/).<br>\n",
    "\n",
    "Simple plot."
   ]
  },
  {
   "cell_type": "code",
   "execution_count": 49,
   "id": "0e79e992-c0dc-4b9d-a22a-4cedcf123c3d",
   "metadata": {},
   "outputs": [],
   "source": [
    "write(\"./code/one_half.jl\", In[IJulia.n])\n",
    "one_half(x) = 0.5^x\n",
    "plot(one_half, -5, 5, labels=\"one_half\")\n",
    "plot!(title = \"Exponential function when 1>x>0\")\n",
    "savefig(\"./pics/one_half.png\")"
   ]
  },
  {
   "cell_type": "markdown",
   "id": "cc3ebc9e-3ada-4c6f-83bd-fba2a1355f95",
   "metadata": {},
   "source": [
    "!['one_half'](https://raw.githubusercontent.com/MikSm1th/blog/main/juliaCal/expo/pics/one_half.png)"
   ]
  },
  {
   "cell_type": "code",
   "execution_count": 50,
   "id": "e58b67d3-0abd-4e5a-8cf4-bc597ab0c0c9",
   "metadata": {},
   "outputs": [],
   "source": [
    "write(\"./code/one_point_zero.jl\", In[IJulia.n])\n",
    "one_point_zero(x) = 1^x\n",
    "plot(one_point_zero, -5,5, labels = \"one\")\n",
    "plot!(title = \"Exponential function when x=1\")\n",
    "savefig(\"./pics/one_point_zero.png\")"
   ]
  },
  {
   "cell_type": "markdown",
   "id": "5f28717d-3a0b-46f6-9243-ba75b92c66eb",
   "metadata": {},
   "source": [
    "![one_point_zero](https://raw.githubusercontent.com/MikSm1th/blog/main/juliaCal/expo/pics/one_point_zero.png)"
   ]
  },
  {
   "cell_type": "code",
   "execution_count": 51,
   "id": "d0d9a5f3-e5be-425e-a83f-fbf27f5dbb36",
   "metadata": {},
   "outputs": [],
   "source": [
    "write(\"./code/two.jl\", In[IJulia.n])\n",
    "two(x) = 2^x\n",
    "plot(two, -5,5, labels = \"two\")\n",
    "plot!(title = \"Exponential function when x>1\")\n",
    "savefig(\"./pics/two.png\")"
   ]
  },
  {
   "cell_type": "markdown",
   "id": "d1a42a16-3ccd-43d5-abc9-c08bddac0765",
   "metadata": {},
   "source": [
    "![two](https://raw.githubusercontent.com/MikSm1th/blog/main/juliaCal/expo/pics/two.png)"
   ]
  },
  {
   "cell_type": "markdown",
   "id": "a1d94b21",
   "metadata": {},
   "source": [
    "If you enjoy my writing, please follow me to follow the journey. "
   ]
  },
  {
   "cell_type": "code",
   "execution_count": null,
   "id": "7839a92d",
   "metadata": {},
   "outputs": [],
   "source": []
  }
 ],
 "metadata": {
  "kernelspec": {
   "display_name": "Julia 1.6.3",
   "language": "julia",
   "name": "julia-1.6"
  },
  "language_info": {
   "file_extension": ".jl",
   "mimetype": "application/julia",
   "name": "julia",
   "version": "1.6.3"
  }
 },
 "nbformat": 4,
 "nbformat_minor": 5
}
