{
 "cells": [
  {
   "cell_type": "markdown",
   "id": "c7523727-1252-48ab-9ce0-1f1b9ff775c6",
   "metadata": {},
   "source": [
    "## Great ideas in mathmatics - The natural logarithm\n",
    "\n",
    "Two disclaimers:\n",
    "1. I am a student and not an expert of math. See `here` for details\n",
    "2. This article will contain code examples from the julia programming language, a knowledge of this language is not neccasary to understand the concept presented. \n",
    "\n",
    "The basic definition behind the natural logrithm is that is it a logarithm with a base of $e$.\n",
    "\n",
    "So to understand the natural logrithm we first have to understand three things.\n",
    "\n",
    "1. Exponents - the definition of a logarithm relies on the definition of an exponent.\n",
    "2. Logarithms\n",
    "3. The natural exponent $e$."
   ]
  },
  {
   "cell_type": "markdown",
   "id": "f194d6af-9644-4a07-9e0c-9b1dc4e9b86e",
   "metadata": {},
   "source": [
    "### Exponents "
   ]
  }
 ],
 "metadata": {
  "kernelspec": {
   "display_name": "Julia 1.6.3",
   "language": "julia",
   "name": "julia-1.6"
  },
  "language_info": {
   "file_extension": ".jl",
   "mimetype": "application/julia",
   "name": "julia",
   "version": "1.6.3"
  }
 },
 "nbformat": 4,
 "nbformat_minor": 5
}
