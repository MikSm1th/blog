{
 "cells": [
  {
   "cell_type": "markdown",
   "id": "a8b480b6-2836-43af-9f91-206b9184ff6e",
   "metadata": {},
   "source": [
    "## The Inspiration behind Great Ideas in Math\n",
    "\n",
    "\n",
    "A few years ago, after reading that computer programming will become a new form of literacy, I decided that I would take a class in python programming.\n",
    "\n",
    "I took [Dr. Charles Severance's Python for Everybody](https://www.py4e.com/).\n",
    "\n",
    "After finishing the class I looked around for ways to apply my programming skills. \n",
    "\n",
    "The simple automation of tasks on my personnal computer was my first task. \n",
    "\n",
    "Shortly thereafter I became interested in Data Science. \n",
    "\n",
    "I was quickly able to understand the pandas package and use it to work with tabular data.\n",
    "\n",
    "When I moved beyond pandas I got the feeling that there was a whole lot of math magic happening in the background that I didn't understand. \n",
    "\n",
    "At that point I realized that if I really wanted to understand data science, I would have to understand mathematics.\n",
    "\n",
    "If I read up on math, I would feel as though I sort of got it.\n",
    "\n",
    "If I took a class I realized that again I would sort of get it. \n",
    "\n",
    "If I took the time to try and teach the material to an unknown and abstract audience, then my understanding would deepen quickly. \n",
    "\n",
    "So began my series of blog posts called Great Ideas in Math.\n",
    "\n",
    "I wanted to take the time to make my story explicit, because I don't want anyone to think that I am an expert in math.\n",
    "\n",
    "I am simply an adult learning taking the public space of the internet to expose my thinking, for both my personal and the collective benefit. \n",
    "\n"
   ]
  },
  {
   "cell_type": "markdown",
   "id": "8095eb70-d73a-4a07-a32d-72219e0dc6b0",
   "metadata": {},
   "source": [
    "Works cited:\n",
    "\n",
    "Severance, Charles, Python for Everybody, ..."
   ]
  }
 ],
 "metadata": {
  "kernelspec": {
   "display_name": "Julia 1.6.3",
   "language": "julia",
   "name": "julia-1.6"
  },
  "language_info": {
   "file_extension": ".jl",
   "mimetype": "application/julia",
   "name": "julia",
   "version": "1.6.3"
  }
 },
 "nbformat": 4,
 "nbformat_minor": 5
}
