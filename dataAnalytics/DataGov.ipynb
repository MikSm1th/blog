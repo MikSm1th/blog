{
 "cells": [
  {
   "cell_type": "markdown",
   "id": "93426e47-fb13-47cf-958a-be33ee30fc8b",
   "metadata": {},
   "source": [
    "# The four P's of data governance\n",
    "\n",
    "1. Problem\n",
    "\n",
    "What problems are you having in your organization that led you to begin to research data governance?\n",
    "\n",
    "Are different teams having problems connecting to pertinent data sources?\n",
    "\n",
    "Uncertainty around why that company vendor still gets a check each week?\n",
    "\n",
    "A valuable exercise is to ask your organization what it's most pressing problem is.\n",
    "Then we ask if that problem requires compiling information to solve. Then the organization starts building a data architecture for that problem.\n",
    "\n",
    "It is important to remember that not all problems need a data flow to solve. No one is confused as to why the corner ice cream shop does it's most robust business in summer. "
   ]
  },
  {
   "cell_type": "markdown",
   "id": "39b863c0-74db-40e4-8e0b-4cd538966782",
   "metadata": {},
   "source": [
    "2. Process\n",
    "\n",
    "This step identifies the legacy systems in place, as well as a target horizon for future systems. \n",
    "\n",
    "Are there systems in place to monitor the health and efficacy of your data pipeline?\n",
    "\n",
    "How flexible or sturdy should your data pipeline be?\n",
    "\n",
    "How will you know when your objectives have been met?\n",
    "\n"
   ]
  },
  {
   "cell_type": "markdown",
   "id": "448b4101-1c4a-4a83-87dd-8f70e1c8c9e9",
   "metadata": {},
   "source": [
    "Defense Versus Offense\n",
    "\n",
    "Our framework addresses two key issues: It helps companies clarify the primary purpose of their data, and it guides them in strategic data management. "
   ]
  },
  {
   "cell_type": "markdown",
   "id": "e3dd9c84-8ee6-478d-9fb7-fd17bb78f9db",
   "metadata": {},
   "source": [
    "3. People\n",
    "\n",
    "Who and how many people are going to run your data architecture?\n",
    "\n",
    "Where are these people located? \n",
    "\n",
    "Would it make more sense to invest in building your data processes from scratch? \n",
    "\n",
    "Do the people who would benefit from the data contribute to it's process?"
   ]
  },
  {
   "cell_type": "markdown",
   "id": "b2dfa1f5-5a7d-4247-a241-77103284c627",
   "metadata": {},
   "source": [
    "4. Product\n",
    "\n",
    "What does your solution look like?\n",
    "\n",
    "Is it a easy python API?\n",
    "\n",
    "Or an excel plug-in?\n",
    "\n",
    "How much of your solution will overlap your legacy systems?\n",
    "\n",
    "How much of your solution should be in a silo away from legacy systems?"
   ]
  },
  {
   "cell_type": "markdown",
   "id": "6d1574ee-ff94-48e5-9e3c-b2a5d459b835",
   "metadata": {},
   "source": [
    "From Harvard Business Review \n",
    "\n",
    "More than ever, the ability to manage torrents of data is critical to a company’s success. People come to expect a certain level of proficiency in the data analytics world. \n",
    "\n"
   ]
  }
 ],
 "metadata": {
  "kernelspec": {
   "display_name": "sera",
   "language": "python",
   "name": "sera"
  },
  "language_info": {
   "codemirror_mode": {
    "name": "ipython",
    "version": 3
   },
   "file_extension": ".py",
   "mimetype": "text/x-python",
   "name": "python",
   "nbconvert_exporter": "python",
   "pygments_lexer": "ipython3",
   "version": "3.8.10"
  }
 },
 "nbformat": 4,
 "nbformat_minor": 5
}
