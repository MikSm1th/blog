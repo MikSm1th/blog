{
 "cells": [
  {
   "cell_type": "raw",
   "id": "c4cacf99-a23f-4918-bebb-ff2c974f2157",
   "metadata": {},
   "source": [
    "### How to think about designing a small survey for your blog. \n",
    "\n",
    "Congratulations you just reached 1,000 followers on medium. You've also converted 800 readers over to your weekly email newsletter subscription list. You are interested in who your readership is. How many of your 800 newsletter subscribers would you have to survey to get a representative cross section of readership?\n",
    "\n",
    "Let's find out. We will reproduce the math here with terms. We will also code some samples in python."
   ]
  },
  {
   "cell_type": "markdown",
   "id": "491a873b-8215-4996-9651-297ccb6c5075",
   "metadata": {},
   "source": [
    "We use sampling in data analysis when gathering the entire population's data would prohibitive. \n",
    "\n",
    "If we think about our example, the maximum number of our survey sample is 800. This represents our list of email examples. The entire population of our survey is our total readership, 1000. Will getting a response from all email subscribers give us a representative measure of our entire population. "
   ]
  },
  {
   "cell_type": "raw",
   "id": "556b85a3-ae90-4050-9eaf-c228903e8f36",
   "metadata": {},
   "source": [
    "Make a pandas dataframe with email, first, last, like_music, like_coding, own_nft"
   ]
  },
  {
   "cell_type": "code",
   "execution_count": 1,
   "id": "00277437-4152-42a1-b3c9-f5c7c5ce7816",
   "metadata": {},
   "outputs": [],
   "source": [
    "import pandas as pd\n",
    "import numpy as np"
   ]
  },
  {
   "cell_type": "code",
   "execution_count": null,
   "id": "4458b1ab-c05c-4231-971a-fb1d904eea98",
   "metadata": {},
   "outputs": [],
   "source": []
  }
 ],
 "metadata": {
  "kernelspec": {
   "display_name": "sera",
   "language": "python",
   "name": "sera"
  },
  "language_info": {
   "codemirror_mode": {
    "name": "ipython",
    "version": 3
   },
   "file_extension": ".py",
   "mimetype": "text/x-python",
   "name": "python",
   "nbconvert_exporter": "python",
   "pygments_lexer": "ipython3",
   "version": "3.8.10"
  }
 },
 "nbformat": 4,
 "nbformat_minor": 5
}
