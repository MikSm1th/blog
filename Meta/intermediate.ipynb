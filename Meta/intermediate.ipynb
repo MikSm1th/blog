{
 "cells": [
  {
   "cell_type": "code",
   "execution_count": null,
   "id": "73730404-8161-4aa5-8f7c-1670dcac4229",
   "metadata": {},
   "outputs": [],
   "source": []
  }
 ],
 "metadata": {
  "kernelspec": {
   "display_name": "sera",
   "language": "python",
   "name": "sera"
  },
  "language_info": {
   "codemirror_mode": {
    "name": "ipython",
    "version": 3
   },
   "file_extension": ".py",
   "mimetype": "text/x-python",
   "name": "python",
   "nbconvert_exporter": "python",
   "pygments_lexer": "ipython3",
   "version": "3.8.10"
  }
 },
 "nbformat": 4,
 "nbformat_minor": 5
}
